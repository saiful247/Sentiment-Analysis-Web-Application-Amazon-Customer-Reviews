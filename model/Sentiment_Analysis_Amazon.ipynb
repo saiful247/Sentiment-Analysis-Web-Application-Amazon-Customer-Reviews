{
 "cells": [
  {
   "cell_type": "code",
   "execution_count": 1,
   "id": "399b0918-2f02-45bc-af2f-273de98a34ea",
   "metadata": {},
   "outputs": [],
   "source": [
    "import pandas as pd\n",
    "import numpy as np"
   ]
  },
  {
   "cell_type": "code",
   "execution_count": 2,
   "id": "ec41f0e9-6ad4-4f60-a854-ecb3377e7b83",
   "metadata": {},
   "outputs": [],
   "source": [
    "df=pd.read_csv(\"amazon_reviews.csv\")"
   ]
  },
  {
   "cell_type": "code",
   "execution_count": 3,
   "id": "0ec51cef-f491-4cdf-943a-ea3f304748e1",
   "metadata": {},
   "outputs": [
    {
     "data": {
      "text/html": [
       "<div>\n",
       "<style scoped>\n",
       "    .dataframe tbody tr th:only-of-type {\n",
       "        vertical-align: middle;\n",
       "    }\n",
       "\n",
       "    .dataframe tbody tr th {\n",
       "        vertical-align: top;\n",
       "    }\n",
       "\n",
       "    .dataframe thead th {\n",
       "        text-align: right;\n",
       "    }\n",
       "</style>\n",
       "<table border=\"1\" class=\"dataframe\">\n",
       "  <thead>\n",
       "    <tr style=\"text-align: right;\">\n",
       "      <th></th>\n",
       "      <th>reviewerID</th>\n",
       "      <th>asin</th>\n",
       "      <th>reviewerName</th>\n",
       "      <th>helpful</th>\n",
       "      <th>reviewText</th>\n",
       "      <th>overall</th>\n",
       "      <th>summary</th>\n",
       "      <th>unixReviewTime</th>\n",
       "      <th>reviewTime</th>\n",
       "      <th>day_diff</th>\n",
       "      <th>helpful_yes</th>\n",
       "      <th>total_vote</th>\n",
       "    </tr>\n",
       "  </thead>\n",
       "  <tbody>\n",
       "    <tr>\n",
       "      <th>0</th>\n",
       "      <td>A3SBTW3WS4IQSN</td>\n",
       "      <td>B007WTAJTO</td>\n",
       "      <td>NaN</td>\n",
       "      <td>[0, 0]</td>\n",
       "      <td>No issues.</td>\n",
       "      <td>4.0</td>\n",
       "      <td>Four Stars</td>\n",
       "      <td>1406073600</td>\n",
       "      <td>2014-07-23</td>\n",
       "      <td>138</td>\n",
       "      <td>0</td>\n",
       "      <td>0</td>\n",
       "    </tr>\n",
       "    <tr>\n",
       "      <th>1</th>\n",
       "      <td>A18K1ODH1I2MVB</td>\n",
       "      <td>B007WTAJTO</td>\n",
       "      <td>0mie</td>\n",
       "      <td>[0, 0]</td>\n",
       "      <td>Purchased this for my device, it worked as adv...</td>\n",
       "      <td>5.0</td>\n",
       "      <td>MOAR SPACE!!!</td>\n",
       "      <td>1382659200</td>\n",
       "      <td>2013-10-25</td>\n",
       "      <td>409</td>\n",
       "      <td>0</td>\n",
       "      <td>0</td>\n",
       "    </tr>\n",
       "    <tr>\n",
       "      <th>2</th>\n",
       "      <td>A2FII3I2MBMUIA</td>\n",
       "      <td>B007WTAJTO</td>\n",
       "      <td>1K3</td>\n",
       "      <td>[0, 0]</td>\n",
       "      <td>it works as expected. I should have sprung for...</td>\n",
       "      <td>4.0</td>\n",
       "      <td>nothing to really say....</td>\n",
       "      <td>1356220800</td>\n",
       "      <td>2012-12-23</td>\n",
       "      <td>715</td>\n",
       "      <td>0</td>\n",
       "      <td>0</td>\n",
       "    </tr>\n",
       "    <tr>\n",
       "      <th>3</th>\n",
       "      <td>A3H99DFEG68SR</td>\n",
       "      <td>B007WTAJTO</td>\n",
       "      <td>1m2</td>\n",
       "      <td>[0, 0]</td>\n",
       "      <td>This think has worked out great.Had a diff. br...</td>\n",
       "      <td>5.0</td>\n",
       "      <td>Great buy at this price!!!  *** UPDATE</td>\n",
       "      <td>1384992000</td>\n",
       "      <td>2013-11-21</td>\n",
       "      <td>382</td>\n",
       "      <td>0</td>\n",
       "      <td>0</td>\n",
       "    </tr>\n",
       "    <tr>\n",
       "      <th>4</th>\n",
       "      <td>A375ZM4U047O79</td>\n",
       "      <td>B007WTAJTO</td>\n",
       "      <td>2&amp;amp;1/2Men</td>\n",
       "      <td>[0, 0]</td>\n",
       "      <td>Bought it with Retail Packaging, arrived legit...</td>\n",
       "      <td>5.0</td>\n",
       "      <td>best deal around</td>\n",
       "      <td>1373673600</td>\n",
       "      <td>2013-07-13</td>\n",
       "      <td>513</td>\n",
       "      <td>0</td>\n",
       "      <td>0</td>\n",
       "    </tr>\n",
       "  </tbody>\n",
       "</table>\n",
       "</div>"
      ],
      "text/plain": [
       "       reviewerID        asin  reviewerName helpful  \\\n",
       "0  A3SBTW3WS4IQSN  B007WTAJTO           NaN  [0, 0]   \n",
       "1  A18K1ODH1I2MVB  B007WTAJTO          0mie  [0, 0]   \n",
       "2  A2FII3I2MBMUIA  B007WTAJTO           1K3  [0, 0]   \n",
       "3   A3H99DFEG68SR  B007WTAJTO           1m2  [0, 0]   \n",
       "4  A375ZM4U047O79  B007WTAJTO  2&amp;1/2Men  [0, 0]   \n",
       "\n",
       "                                          reviewText  overall  \\\n",
       "0                                         No issues.      4.0   \n",
       "1  Purchased this for my device, it worked as adv...      5.0   \n",
       "2  it works as expected. I should have sprung for...      4.0   \n",
       "3  This think has worked out great.Had a diff. br...      5.0   \n",
       "4  Bought it with Retail Packaging, arrived legit...      5.0   \n",
       "\n",
       "                                  summary  unixReviewTime  reviewTime  \\\n",
       "0                              Four Stars      1406073600  2014-07-23   \n",
       "1                           MOAR SPACE!!!      1382659200  2013-10-25   \n",
       "2               nothing to really say....      1356220800  2012-12-23   \n",
       "3  Great buy at this price!!!  *** UPDATE      1384992000  2013-11-21   \n",
       "4                        best deal around      1373673600  2013-07-13   \n",
       "\n",
       "   day_diff  helpful_yes  total_vote  \n",
       "0       138            0           0  \n",
       "1       409            0           0  \n",
       "2       715            0           0  \n",
       "3       382            0           0  \n",
       "4       513            0           0  "
      ]
     },
     "execution_count": 3,
     "metadata": {},
     "output_type": "execute_result"
    }
   ],
   "source": [
    "df.head()"
   ]
  },
  {
   "cell_type": "code",
   "execution_count": 6,
   "id": "b60e4354-ec59-4081-ad27-9bee754fb370",
   "metadata": {},
   "outputs": [
    {
     "data": {
      "text/plain": [
       "(4915, 12)"
      ]
     },
     "execution_count": 6,
     "metadata": {},
     "output_type": "execute_result"
    }
   ],
   "source": [
    "df.shape"
   ]
  },
  {
   "cell_type": "code",
   "execution_count": 4,
   "id": "7009e197-82c8-460e-a313-2574b145b7f6",
   "metadata": {},
   "outputs": [
    {
     "data": {
      "text/plain": [
       "reviewerID        0\n",
       "asin              0\n",
       "reviewerName      1\n",
       "helpful           0\n",
       "reviewText        1\n",
       "overall           0\n",
       "summary           0\n",
       "unixReviewTime    0\n",
       "reviewTime        0\n",
       "day_diff          0\n",
       "helpful_yes       0\n",
       "total_vote        0\n",
       "dtype: int64"
      ]
     },
     "execution_count": 4,
     "metadata": {},
     "output_type": "execute_result"
    }
   ],
   "source": [
    "df.isnull().sum()"
   ]
  },
  {
   "cell_type": "code",
   "execution_count": 7,
   "id": "00a051ef-6408-4c92-9a81-c0e5a905536a",
   "metadata": {},
   "outputs": [],
   "source": [
    "df1=df.dropna()"
   ]
  },
  {
   "cell_type": "code",
   "execution_count": 8,
   "id": "3d9e1c81-f4f6-4154-961c-7a2508052934",
   "metadata": {},
   "outputs": [
    {
     "data": {
      "text/plain": [
       "reviewerID        0\n",
       "asin              0\n",
       "reviewerName      0\n",
       "helpful           0\n",
       "reviewText        0\n",
       "overall           0\n",
       "summary           0\n",
       "unixReviewTime    0\n",
       "reviewTime        0\n",
       "day_diff          0\n",
       "helpful_yes       0\n",
       "total_vote        0\n",
       "dtype: int64"
      ]
     },
     "execution_count": 8,
     "metadata": {},
     "output_type": "execute_result"
    }
   ],
   "source": [
    "df1.isnull().sum()"
   ]
  },
  {
   "cell_type": "code",
   "execution_count": 9,
   "id": "a850eaea-b2fd-4beb-beec-c45519845fdd",
   "metadata": {},
   "outputs": [
    {
     "data": {
      "text/html": [
       "<div>\n",
       "<style scoped>\n",
       "    .dataframe tbody tr th:only-of-type {\n",
       "        vertical-align: middle;\n",
       "    }\n",
       "\n",
       "    .dataframe tbody tr th {\n",
       "        vertical-align: top;\n",
       "    }\n",
       "\n",
       "    .dataframe thead th {\n",
       "        text-align: right;\n",
       "    }\n",
       "</style>\n",
       "<table border=\"1\" class=\"dataframe\">\n",
       "  <thead>\n",
       "    <tr style=\"text-align: right;\">\n",
       "      <th></th>\n",
       "      <th>reviewerID</th>\n",
       "      <th>asin</th>\n",
       "      <th>reviewerName</th>\n",
       "      <th>helpful</th>\n",
       "      <th>reviewText</th>\n",
       "      <th>overall</th>\n",
       "      <th>summary</th>\n",
       "      <th>unixReviewTime</th>\n",
       "      <th>reviewTime</th>\n",
       "      <th>day_diff</th>\n",
       "      <th>helpful_yes</th>\n",
       "      <th>total_vote</th>\n",
       "    </tr>\n",
       "  </thead>\n",
       "  <tbody>\n",
       "    <tr>\n",
       "      <th>1</th>\n",
       "      <td>A18K1ODH1I2MVB</td>\n",
       "      <td>B007WTAJTO</td>\n",
       "      <td>0mie</td>\n",
       "      <td>[0, 0]</td>\n",
       "      <td>Purchased this for my device, it worked as adv...</td>\n",
       "      <td>5.0</td>\n",
       "      <td>MOAR SPACE!!!</td>\n",
       "      <td>1382659200</td>\n",
       "      <td>2013-10-25</td>\n",
       "      <td>409</td>\n",
       "      <td>0</td>\n",
       "      <td>0</td>\n",
       "    </tr>\n",
       "    <tr>\n",
       "      <th>2</th>\n",
       "      <td>A2FII3I2MBMUIA</td>\n",
       "      <td>B007WTAJTO</td>\n",
       "      <td>1K3</td>\n",
       "      <td>[0, 0]</td>\n",
       "      <td>it works as expected. I should have sprung for...</td>\n",
       "      <td>4.0</td>\n",
       "      <td>nothing to really say....</td>\n",
       "      <td>1356220800</td>\n",
       "      <td>2012-12-23</td>\n",
       "      <td>715</td>\n",
       "      <td>0</td>\n",
       "      <td>0</td>\n",
       "    </tr>\n",
       "    <tr>\n",
       "      <th>3</th>\n",
       "      <td>A3H99DFEG68SR</td>\n",
       "      <td>B007WTAJTO</td>\n",
       "      <td>1m2</td>\n",
       "      <td>[0, 0]</td>\n",
       "      <td>This think has worked out great.Had a diff. br...</td>\n",
       "      <td>5.0</td>\n",
       "      <td>Great buy at this price!!!  *** UPDATE</td>\n",
       "      <td>1384992000</td>\n",
       "      <td>2013-11-21</td>\n",
       "      <td>382</td>\n",
       "      <td>0</td>\n",
       "      <td>0</td>\n",
       "    </tr>\n",
       "    <tr>\n",
       "      <th>4</th>\n",
       "      <td>A375ZM4U047O79</td>\n",
       "      <td>B007WTAJTO</td>\n",
       "      <td>2&amp;amp;1/2Men</td>\n",
       "      <td>[0, 0]</td>\n",
       "      <td>Bought it with Retail Packaging, arrived legit...</td>\n",
       "      <td>5.0</td>\n",
       "      <td>best deal around</td>\n",
       "      <td>1373673600</td>\n",
       "      <td>2013-07-13</td>\n",
       "      <td>513</td>\n",
       "      <td>0</td>\n",
       "      <td>0</td>\n",
       "    </tr>\n",
       "    <tr>\n",
       "      <th>5</th>\n",
       "      <td>A2IDCSC6NVONIZ</td>\n",
       "      <td>B007WTAJTO</td>\n",
       "      <td>2Cents!</td>\n",
       "      <td>[0, 0]</td>\n",
       "      <td>It's mini storage.  It doesn't do anything els...</td>\n",
       "      <td>5.0</td>\n",
       "      <td>Not a lot to really be said</td>\n",
       "      <td>1367193600</td>\n",
       "      <td>2013-04-29</td>\n",
       "      <td>588</td>\n",
       "      <td>0</td>\n",
       "      <td>0</td>\n",
       "    </tr>\n",
       "  </tbody>\n",
       "</table>\n",
       "</div>"
      ],
      "text/plain": [
       "       reviewerID        asin  reviewerName helpful  \\\n",
       "1  A18K1ODH1I2MVB  B007WTAJTO          0mie  [0, 0]   \n",
       "2  A2FII3I2MBMUIA  B007WTAJTO           1K3  [0, 0]   \n",
       "3   A3H99DFEG68SR  B007WTAJTO           1m2  [0, 0]   \n",
       "4  A375ZM4U047O79  B007WTAJTO  2&amp;1/2Men  [0, 0]   \n",
       "5  A2IDCSC6NVONIZ  B007WTAJTO       2Cents!  [0, 0]   \n",
       "\n",
       "                                          reviewText  overall  \\\n",
       "1  Purchased this for my device, it worked as adv...      5.0   \n",
       "2  it works as expected. I should have sprung for...      4.0   \n",
       "3  This think has worked out great.Had a diff. br...      5.0   \n",
       "4  Bought it with Retail Packaging, arrived legit...      5.0   \n",
       "5  It's mini storage.  It doesn't do anything els...      5.0   \n",
       "\n",
       "                                  summary  unixReviewTime  reviewTime  \\\n",
       "1                           MOAR SPACE!!!      1382659200  2013-10-25   \n",
       "2               nothing to really say....      1356220800  2012-12-23   \n",
       "3  Great buy at this price!!!  *** UPDATE      1384992000  2013-11-21   \n",
       "4                        best deal around      1373673600  2013-07-13   \n",
       "5             Not a lot to really be said      1367193600  2013-04-29   \n",
       "\n",
       "   day_diff  helpful_yes  total_vote  \n",
       "1       409            0           0  \n",
       "2       715            0           0  \n",
       "3       382            0           0  \n",
       "4       513            0           0  \n",
       "5       588            0           0  "
      ]
     },
     "execution_count": 9,
     "metadata": {},
     "output_type": "execute_result"
    }
   ],
   "source": [
    "df1.head()"
   ]
  },
  {
   "cell_type": "markdown",
   "id": "114d337a-4f2b-4e94-9603-31901b342812",
   "metadata": {},
   "source": [
    "We just need reviewText maybe reviewerID"
   ]
  },
  {
   "cell_type": "code",
   "execution_count": 14,
   "id": "0ce752fd-92e5-4d59-89e0-4456d281a938",
   "metadata": {},
   "outputs": [],
   "source": [
    "df2=df1.copy()"
   ]
  },
  {
   "cell_type": "code",
   "execution_count": 15,
   "id": "3162a9a0-dd01-43e9-a5bd-b876ec360a99",
   "metadata": {},
   "outputs": [],
   "source": [
    "df2=df2.drop(['reviewerID','reviewerName','helpful','unixReviewTime','reviewTime','helpful_yes','day_diff','total_vote'],axis='columns')"
   ]
  },
  {
   "cell_type": "code",
   "execution_count": 16,
   "id": "e57dcb4b-2bd6-4af6-8b83-84946a0332cc",
   "metadata": {},
   "outputs": [
    {
     "data": {
      "text/html": [
       "<div>\n",
       "<style scoped>\n",
       "    .dataframe tbody tr th:only-of-type {\n",
       "        vertical-align: middle;\n",
       "    }\n",
       "\n",
       "    .dataframe tbody tr th {\n",
       "        vertical-align: top;\n",
       "    }\n",
       "\n",
       "    .dataframe thead th {\n",
       "        text-align: right;\n",
       "    }\n",
       "</style>\n",
       "<table border=\"1\" class=\"dataframe\">\n",
       "  <thead>\n",
       "    <tr style=\"text-align: right;\">\n",
       "      <th></th>\n",
       "      <th>asin</th>\n",
       "      <th>reviewText</th>\n",
       "      <th>overall</th>\n",
       "      <th>summary</th>\n",
       "    </tr>\n",
       "  </thead>\n",
       "  <tbody>\n",
       "    <tr>\n",
       "      <th>1</th>\n",
       "      <td>B007WTAJTO</td>\n",
       "      <td>Purchased this for my device, it worked as adv...</td>\n",
       "      <td>5.0</td>\n",
       "      <td>MOAR SPACE!!!</td>\n",
       "    </tr>\n",
       "    <tr>\n",
       "      <th>2</th>\n",
       "      <td>B007WTAJTO</td>\n",
       "      <td>it works as expected. I should have sprung for...</td>\n",
       "      <td>4.0</td>\n",
       "      <td>nothing to really say....</td>\n",
       "    </tr>\n",
       "    <tr>\n",
       "      <th>3</th>\n",
       "      <td>B007WTAJTO</td>\n",
       "      <td>This think has worked out great.Had a diff. br...</td>\n",
       "      <td>5.0</td>\n",
       "      <td>Great buy at this price!!!  *** UPDATE</td>\n",
       "    </tr>\n",
       "    <tr>\n",
       "      <th>4</th>\n",
       "      <td>B007WTAJTO</td>\n",
       "      <td>Bought it with Retail Packaging, arrived legit...</td>\n",
       "      <td>5.0</td>\n",
       "      <td>best deal around</td>\n",
       "    </tr>\n",
       "    <tr>\n",
       "      <th>5</th>\n",
       "      <td>B007WTAJTO</td>\n",
       "      <td>It's mini storage.  It doesn't do anything els...</td>\n",
       "      <td>5.0</td>\n",
       "      <td>Not a lot to really be said</td>\n",
       "    </tr>\n",
       "  </tbody>\n",
       "</table>\n",
       "</div>"
      ],
      "text/plain": [
       "         asin                                         reviewText  overall  \\\n",
       "1  B007WTAJTO  Purchased this for my device, it worked as adv...      5.0   \n",
       "2  B007WTAJTO  it works as expected. I should have sprung for...      4.0   \n",
       "3  B007WTAJTO  This think has worked out great.Had a diff. br...      5.0   \n",
       "4  B007WTAJTO  Bought it with Retail Packaging, arrived legit...      5.0   \n",
       "5  B007WTAJTO  It's mini storage.  It doesn't do anything els...      5.0   \n",
       "\n",
       "                                  summary  \n",
       "1                           MOAR SPACE!!!  \n",
       "2               nothing to really say....  \n",
       "3  Great buy at this price!!!  *** UPDATE  \n",
       "4                        best deal around  \n",
       "5             Not a lot to really be said  "
      ]
     },
     "execution_count": 16,
     "metadata": {},
     "output_type": "execute_result"
    }
   ],
   "source": [
    "df2.head()"
   ]
  },
  {
   "cell_type": "markdown",
   "id": "9bfe67b2-6c2b-4868-b255-29324d43c79e",
   "metadata": {},
   "source": [
    "Remove extra whitespaces in the 'reviewText' column"
   ]
  },
  {
   "cell_type": "code",
   "execution_count": 17,
   "id": "a2f43522-bf6a-4621-802f-a08f25227d15",
   "metadata": {},
   "outputs": [],
   "source": [
    "df2['reviewText']=df2.reviewText.str.strip() # Remove leading/trailing whitespaces\n",
    "df2.reviewText=df2.reviewText.str.replace(r\"\\s+\",' ',regex=True) # Replace multiple spaces with a single space"
   ]
  },
  {
   "cell_type": "code",
   "execution_count": 18,
   "id": "f7b977fc-7d8a-4b2b-9d2a-8dee49b20046",
   "metadata": {},
   "outputs": [
    {
     "data": {
      "text/html": [
       "<div>\n",
       "<style scoped>\n",
       "    .dataframe tbody tr th:only-of-type {\n",
       "        vertical-align: middle;\n",
       "    }\n",
       "\n",
       "    .dataframe tbody tr th {\n",
       "        vertical-align: top;\n",
       "    }\n",
       "\n",
       "    .dataframe thead th {\n",
       "        text-align: right;\n",
       "    }\n",
       "</style>\n",
       "<table border=\"1\" class=\"dataframe\">\n",
       "  <thead>\n",
       "    <tr style=\"text-align: right;\">\n",
       "      <th></th>\n",
       "      <th>asin</th>\n",
       "      <th>reviewText</th>\n",
       "      <th>overall</th>\n",
       "      <th>summary</th>\n",
       "    </tr>\n",
       "  </thead>\n",
       "  <tbody>\n",
       "    <tr>\n",
       "      <th>1</th>\n",
       "      <td>B007WTAJTO</td>\n",
       "      <td>Purchased this for my device, it worked as adv...</td>\n",
       "      <td>5.0</td>\n",
       "      <td>MOAR SPACE!!!</td>\n",
       "    </tr>\n",
       "    <tr>\n",
       "      <th>2</th>\n",
       "      <td>B007WTAJTO</td>\n",
       "      <td>it works as expected. I should have sprung for...</td>\n",
       "      <td>4.0</td>\n",
       "      <td>nothing to really say....</td>\n",
       "    </tr>\n",
       "    <tr>\n",
       "      <th>3</th>\n",
       "      <td>B007WTAJTO</td>\n",
       "      <td>This think has worked out great.Had a diff. br...</td>\n",
       "      <td>5.0</td>\n",
       "      <td>Great buy at this price!!!  *** UPDATE</td>\n",
       "    </tr>\n",
       "    <tr>\n",
       "      <th>4</th>\n",
       "      <td>B007WTAJTO</td>\n",
       "      <td>Bought it with Retail Packaging, arrived legit...</td>\n",
       "      <td>5.0</td>\n",
       "      <td>best deal around</td>\n",
       "    </tr>\n",
       "    <tr>\n",
       "      <th>5</th>\n",
       "      <td>B007WTAJTO</td>\n",
       "      <td>It's mini storage. It doesn't do anything else...</td>\n",
       "      <td>5.0</td>\n",
       "      <td>Not a lot to really be said</td>\n",
       "    </tr>\n",
       "  </tbody>\n",
       "</table>\n",
       "</div>"
      ],
      "text/plain": [
       "         asin                                         reviewText  overall  \\\n",
       "1  B007WTAJTO  Purchased this for my device, it worked as adv...      5.0   \n",
       "2  B007WTAJTO  it works as expected. I should have sprung for...      4.0   \n",
       "3  B007WTAJTO  This think has worked out great.Had a diff. br...      5.0   \n",
       "4  B007WTAJTO  Bought it with Retail Packaging, arrived legit...      5.0   \n",
       "5  B007WTAJTO  It's mini storage. It doesn't do anything else...      5.0   \n",
       "\n",
       "                                  summary  \n",
       "1                           MOAR SPACE!!!  \n",
       "2               nothing to really say....  \n",
       "3  Great buy at this price!!!  *** UPDATE  \n",
       "4                        best deal around  \n",
       "5             Not a lot to really be said  "
      ]
     },
     "execution_count": 18,
     "metadata": {},
     "output_type": "execute_result"
    }
   ],
   "source": [
    "df2.head()"
   ]
  },
  {
   "cell_type": "code",
   "execution_count": 21,
   "id": "7d2b189c-7b11-42ed-b8a8-9b03d354601b",
   "metadata": {},
   "outputs": [
    {
     "data": {
      "text/plain": [
       "count    4913.000000\n",
       "mean        4.587625\n",
       "std         0.996995\n",
       "min         1.000000\n",
       "25%         5.000000\n",
       "50%         5.000000\n",
       "75%         5.000000\n",
       "max         5.000000\n",
       "Name: overall, dtype: float64"
      ]
     },
     "execution_count": 21,
     "metadata": {},
     "output_type": "execute_result"
    }
   ],
   "source": [
    "df2.overall.describe()"
   ]
  },
  {
   "cell_type": "code",
   "execution_count": 22,
   "id": "8bac0f4b-8df4-416e-a882-82fdee614e7c",
   "metadata": {},
   "outputs": [
    {
     "data": {
      "text/plain": [
       "overall\n",
       "5.0    3921\n",
       "4.0     526\n",
       "1.0     244\n",
       "3.0     142\n",
       "2.0      80\n",
       "Name: count, dtype: int64"
      ]
     },
     "execution_count": 22,
     "metadata": {},
     "output_type": "execute_result"
    }
   ],
   "source": [
    "df2.overall.value_counts()"
   ]
  },
  {
   "cell_type": "code",
   "execution_count": 23,
   "id": "8ff9a6f6-9c67-4e9b-a193-b9c46058a4fd",
   "metadata": {},
   "outputs": [
    {
     "data": {
      "text/plain": [
       "array([5., 4., 3., 1., 2.])"
      ]
     },
     "execution_count": 23,
     "metadata": {},
     "output_type": "execute_result"
    }
   ],
   "source": [
    "df2.overall.unique()"
   ]
  },
  {
   "cell_type": "code",
   "execution_count": null,
   "id": "6aa061da-b9ad-4719-88e4-5cfe89e5dc38",
   "metadata": {},
   "outputs": [],
   "source": [
    "# we can do the sentiment analysis in 2 ways.\n",
    "# 1) from overall: 1(very bad),2(bad),3(Nuetral),4(good),5(very good) then create a columns on these 5. then create dummies and asign 0,1. then use a ML model\n",
    "# 2) from reviewText: use HuggingFace the create a new column o"
   ]
  }
 ],
 "metadata": {
  "kernelspec": {
   "display_name": "Python 3 (ipykernel)",
   "language": "python",
   "name": "python3"
  },
  "language_info": {
   "codemirror_mode": {
    "name": "ipython",
    "version": 3
   },
   "file_extension": ".py",
   "mimetype": "text/x-python",
   "name": "python",
   "nbconvert_exporter": "python",
   "pygments_lexer": "ipython3",
   "version": "3.12.4"
  }
 },
 "nbformat": 4,
 "nbformat_minor": 5
}
