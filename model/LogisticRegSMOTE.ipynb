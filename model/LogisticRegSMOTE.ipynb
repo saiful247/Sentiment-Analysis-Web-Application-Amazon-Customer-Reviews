{
 "cells": [
  {
   "cell_type": "code",
   "execution_count": 1,
   "id": "fc1f00b7-009a-4217-929b-5f4db7ebefdc",
   "metadata": {},
   "outputs": [],
   "source": [
    "import pandas as pd\n",
    "import numpy as np"
   ]
  },
  {
   "cell_type": "code",
   "execution_count": 90,
   "id": "e678e359-c12a-491e-be55-8b2f97b08280",
   "metadata": {},
   "outputs": [],
   "source": [
    "df6=pd.read_csv(\"final_cleaned_dataset.csv\")"
   ]
  },
  {
   "cell_type": "code",
   "execution_count": 58,
   "id": "5ae93224-f82d-4e60-83b0-24f0f6ebdde1",
   "metadata": {},
   "outputs": [
    {
     "name": "stdout",
     "output_type": "stream",
     "text": [
      "Original class distribution: sentiment_label\n",
      "1    3147\n",
      "0     783\n",
      "Name: count, dtype: int64\n",
      "Balanced class distribution: sentiment_label\n",
      "1    3147\n",
      "0    3147\n",
      "Name: count, dtype: int64\n"
     ]
    }
   ],
   "source": [
    "from sklearn.model_selection import train_test_split\n",
    "from sklearn.feature_extraction.text import TfidfVectorizer\n",
    "from sklearn.linear_model import LogisticRegression\n",
    "from sklearn.metrics import classification_report, accuracy_score, confusion_matrix\n",
    "from imblearn.over_sampling import SMOTE\n",
    "\n",
    "X = df6['cleaned_text']\n",
    "y = df6['sentiment_label']\n",
    "\n",
    "X_train, X_test, y_train, y_test = train_test_split(X, y, test_size=0.2, random_state=42)\n",
    "\n",
    "#Vectorize text using TF-IDF\n",
    "tfidf_vectorizer = TfidfVectorizer(max_features=5000)  # Adjust max_features if needed\n",
    "X_train_tfidf = tfidf_vectorizer.fit_transform(X_train)\n",
    "X_test_tfidf = tfidf_vectorizer.transform(X_test)\n",
    "\n",
    "#SMOTE to balance the training data\n",
    "smote = SMOTE(random_state=42)\n",
    "X_train_balanced, y_train_balanced = smote.fit_resample(X_train_tfidf, y_train)\n",
    "\n",
    "#class distribution\n",
    "print(\"Original class distribution:\", y_train.value_counts())\n",
    "print(\"Balanced class distribution:\", pd.Series(y_train_balanced).value_counts())"
   ]
  },
  {
   "cell_type": "code",
   "execution_count": 59,
   "id": "0d664ed5-2f82-4ca6-b15b-bd20cfc22762",
   "metadata": {},
   "outputs": [
    {
     "name": "stdout",
     "output_type": "stream",
     "text": [
      "\n",
      "Accuracy: 0.844354018311292\n",
      "\n",
      "Classification Report:\n",
      "              precision    recall  f1-score   support\n",
      "\n",
      "           0       0.58      0.75      0.65       193\n",
      "           1       0.93      0.87      0.90       790\n",
      "\n",
      "    accuracy                           0.84       983\n",
      "   macro avg       0.76      0.81      0.78       983\n",
      "weighted avg       0.86      0.84      0.85       983\n",
      "\n",
      "\n",
      "Confusion Matrix:\n",
      "[[145  48]\n",
      " [105 685]]\n"
     ]
    }
   ],
   "source": [
    "log_reg_model = LogisticRegression(random_state=42)\n",
    "log_reg_model.fit(X_train_balanced, y_train_balanced)\n",
    "\n",
    "#evaluate\n",
    "y_pred = log_reg_model.predict(X_test_tfidf)\n",
    "print(\"\\nAccuracy:\", accuracy_score(y_test, y_pred))\n",
    "print(\"\\nClassification Report:\")\n",
    "print(classification_report(y_test, y_pred))\n",
    "print(\"\\nConfusion Matrix:\")\n",
    "print(confusion_matrix(y_test, y_pred))"
   ]
  },
  {
   "cell_type": "code",
   "execution_count": 84,
   "id": "dcc246ac-1aeb-4b53-9ad0-3850746dee51",
   "metadata": {},
   "outputs": [],
   "source": [
    "import joblib\n",
    "joblib.dump(log_reg_model, 'logistic_regression_smote_model.pkl')\n",
    "joblib.dump(tfidf_vectorizer, 'tfidf_vectorizer.pkl')\n",
    "\n",
    "def predict_analysis(text):\n",
    "    #vectorizer\n",
    "    text_tfidf = tfidf_vectorizer.transform([text])\n",
    "    \n",
    "    #model\n",
    "    prediction = log_reg_model.predict(text_tfidf)\n",
    "    \n",
    "    #map\n",
    "    sentiment = \"Positive\" if prediction[0] == 1 else \"Negative\"\n",
    "    \n",
    "    return f\"The sentiment of the input text is: {sentiment}\"\n",
    "\n"
   ]
  },
  {
   "cell_type": "code",
   "execution_count": 86,
   "id": "178d30cd-8438-4310-9263-6d0f1bac2239",
   "metadata": {},
   "outputs": [
    {
     "data": {
      "text/plain": [
       "'The sentiment of the input text is: Negative'"
      ]
     },
     "execution_count": 86,
     "metadata": {},
     "output_type": "execute_result"
    }
   ],
   "source": [
    "predict_analysis('awsome')"
   ]
  },
  {
   "cell_type": "code",
   "execution_count": 87,
   "id": "02f8e80c-d81a-4fd4-9567-4eb7dfc649ba",
   "metadata": {},
   "outputs": [
    {
     "data": {
      "text/plain": [
       "'The sentiment of the input text is: Positive'"
      ]
     },
     "execution_count": 87,
     "metadata": {},
     "output_type": "execute_result"
    }
   ],
   "source": [
    "predict_analysis('Well')"
   ]
  },
  {
   "cell_type": "code",
   "execution_count": 88,
   "id": "2839235c-7946-4d3f-806a-c176bd1a82d3",
   "metadata": {},
   "outputs": [
    {
     "data": {
      "text/plain": [
       "'The sentiment of the input text is: Positive'"
      ]
     },
     "execution_count": 88,
     "metadata": {},
     "output_type": "execute_result"
    }
   ],
   "source": [
    "predict_analysis('Not Well')"
   ]
  },
  {
   "cell_type": "code",
   "execution_count": 89,
   "id": "6c351b38-5fb6-4786-bfa9-9aa3a988785f",
   "metadata": {},
   "outputs": [
    {
     "data": {
      "text/plain": [
       "['tfidf_vectorizerLogR.pkl']"
      ]
     },
     "execution_count": 89,
     "metadata": {},
     "output_type": "execute_result"
    }
   ],
   "source": [
    "joblib.dump(tfidf_vectorizer, 'tfidf_vectorizerLogR.pkl')"
   ]
  },
  {
   "cell_type": "code",
   "execution_count": null,
   "id": "57928faf-e3a9-4ea6-8bd6-4e5289386587",
   "metadata": {},
   "outputs": [],
   "source": []
  }
 ],
 "metadata": {
  "kernelspec": {
   "display_name": "Python 3 (ipykernel)",
   "language": "python",
   "name": "python3"
  },
  "language_info": {
   "codemirror_mode": {
    "name": "ipython",
    "version": 3
   },
   "file_extension": ".py",
   "mimetype": "text/x-python",
   "name": "python",
   "nbconvert_exporter": "python",
   "pygments_lexer": "ipython3",
   "version": "3.12.4"
  }
 },
 "nbformat": 4,
 "nbformat_minor": 5
}
