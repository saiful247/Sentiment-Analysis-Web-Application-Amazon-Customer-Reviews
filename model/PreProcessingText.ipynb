{
 "cells": [
  {
   "cell_type": "code",
   "execution_count": 1,
   "id": "57a5e842-60b7-47a4-bf39-43e2a77b1f14",
   "metadata": {},
   "outputs": [],
   "source": [
    "import pandas as pd\n",
    "import numpy as np"
   ]
  },
  {
   "cell_type": "code",
   "execution_count": 2,
   "id": "cdd4ecc2-da85-4d8b-b2fa-7e98b6237a99",
   "metadata": {},
   "outputs": [],
   "source": [
    "df=pd.read_csv(\"amazon_reviews.csv\")"
   ]
  },
  {
   "cell_type": "code",
   "execution_count": 3,
   "id": "c6d80085-e157-4e78-b965-f90d1f682085",
   "metadata": {},
   "outputs": [
    {
     "data": {
      "text/html": [
       "<div>\n",
       "<style scoped>\n",
       "    .dataframe tbody tr th:only-of-type {\n",
       "        vertical-align: middle;\n",
       "    }\n",
       "\n",
       "    .dataframe tbody tr th {\n",
       "        vertical-align: top;\n",
       "    }\n",
       "\n",
       "    .dataframe thead th {\n",
       "        text-align: right;\n",
       "    }\n",
       "</style>\n",
       "<table border=\"1\" class=\"dataframe\">\n",
       "  <thead>\n",
       "    <tr style=\"text-align: right;\">\n",
       "      <th></th>\n",
       "      <th>reviewerID</th>\n",
       "      <th>asin</th>\n",
       "      <th>reviewerName</th>\n",
       "      <th>helpful</th>\n",
       "      <th>reviewText</th>\n",
       "      <th>overall</th>\n",
       "      <th>summary</th>\n",
       "      <th>unixReviewTime</th>\n",
       "      <th>reviewTime</th>\n",
       "      <th>day_diff</th>\n",
       "      <th>helpful_yes</th>\n",
       "      <th>total_vote</th>\n",
       "    </tr>\n",
       "  </thead>\n",
       "  <tbody>\n",
       "    <tr>\n",
       "      <th>0</th>\n",
       "      <td>A3SBTW3WS4IQSN</td>\n",
       "      <td>B007WTAJTO</td>\n",
       "      <td>NaN</td>\n",
       "      <td>[0, 0]</td>\n",
       "      <td>No issues.</td>\n",
       "      <td>4.0</td>\n",
       "      <td>Four Stars</td>\n",
       "      <td>1406073600</td>\n",
       "      <td>2014-07-23</td>\n",
       "      <td>138</td>\n",
       "      <td>0</td>\n",
       "      <td>0</td>\n",
       "    </tr>\n",
       "    <tr>\n",
       "      <th>1</th>\n",
       "      <td>A18K1ODH1I2MVB</td>\n",
       "      <td>B007WTAJTO</td>\n",
       "      <td>0mie</td>\n",
       "      <td>[0, 0]</td>\n",
       "      <td>Purchased this for my device, it worked as adv...</td>\n",
       "      <td>5.0</td>\n",
       "      <td>MOAR SPACE!!!</td>\n",
       "      <td>1382659200</td>\n",
       "      <td>2013-10-25</td>\n",
       "      <td>409</td>\n",
       "      <td>0</td>\n",
       "      <td>0</td>\n",
       "    </tr>\n",
       "    <tr>\n",
       "      <th>2</th>\n",
       "      <td>A2FII3I2MBMUIA</td>\n",
       "      <td>B007WTAJTO</td>\n",
       "      <td>1K3</td>\n",
       "      <td>[0, 0]</td>\n",
       "      <td>it works as expected. I should have sprung for...</td>\n",
       "      <td>4.0</td>\n",
       "      <td>nothing to really say....</td>\n",
       "      <td>1356220800</td>\n",
       "      <td>2012-12-23</td>\n",
       "      <td>715</td>\n",
       "      <td>0</td>\n",
       "      <td>0</td>\n",
       "    </tr>\n",
       "    <tr>\n",
       "      <th>3</th>\n",
       "      <td>A3H99DFEG68SR</td>\n",
       "      <td>B007WTAJTO</td>\n",
       "      <td>1m2</td>\n",
       "      <td>[0, 0]</td>\n",
       "      <td>This think has worked out great.Had a diff. br...</td>\n",
       "      <td>5.0</td>\n",
       "      <td>Great buy at this price!!!  *** UPDATE</td>\n",
       "      <td>1384992000</td>\n",
       "      <td>2013-11-21</td>\n",
       "      <td>382</td>\n",
       "      <td>0</td>\n",
       "      <td>0</td>\n",
       "    </tr>\n",
       "    <tr>\n",
       "      <th>4</th>\n",
       "      <td>A375ZM4U047O79</td>\n",
       "      <td>B007WTAJTO</td>\n",
       "      <td>2&amp;amp;1/2Men</td>\n",
       "      <td>[0, 0]</td>\n",
       "      <td>Bought it with Retail Packaging, arrived legit...</td>\n",
       "      <td>5.0</td>\n",
       "      <td>best deal around</td>\n",
       "      <td>1373673600</td>\n",
       "      <td>2013-07-13</td>\n",
       "      <td>513</td>\n",
       "      <td>0</td>\n",
       "      <td>0</td>\n",
       "    </tr>\n",
       "  </tbody>\n",
       "</table>\n",
       "</div>"
      ],
      "text/plain": [
       "       reviewerID        asin  reviewerName helpful  \\\n",
       "0  A3SBTW3WS4IQSN  B007WTAJTO           NaN  [0, 0]   \n",
       "1  A18K1ODH1I2MVB  B007WTAJTO          0mie  [0, 0]   \n",
       "2  A2FII3I2MBMUIA  B007WTAJTO           1K3  [0, 0]   \n",
       "3   A3H99DFEG68SR  B007WTAJTO           1m2  [0, 0]   \n",
       "4  A375ZM4U047O79  B007WTAJTO  2&amp;1/2Men  [0, 0]   \n",
       "\n",
       "                                          reviewText  overall  \\\n",
       "0                                         No issues.      4.0   \n",
       "1  Purchased this for my device, it worked as adv...      5.0   \n",
       "2  it works as expected. I should have sprung for...      4.0   \n",
       "3  This think has worked out great.Had a diff. br...      5.0   \n",
       "4  Bought it with Retail Packaging, arrived legit...      5.0   \n",
       "\n",
       "                                  summary  unixReviewTime  reviewTime  \\\n",
       "0                              Four Stars      1406073600  2014-07-23   \n",
       "1                           MOAR SPACE!!!      1382659200  2013-10-25   \n",
       "2               nothing to really say....      1356220800  2012-12-23   \n",
       "3  Great buy at this price!!!  *** UPDATE      1384992000  2013-11-21   \n",
       "4                        best deal around      1373673600  2013-07-13   \n",
       "\n",
       "   day_diff  helpful_yes  total_vote  \n",
       "0       138            0           0  \n",
       "1       409            0           0  \n",
       "2       715            0           0  \n",
       "3       382            0           0  \n",
       "4       513            0           0  "
      ]
     },
     "execution_count": 3,
     "metadata": {},
     "output_type": "execute_result"
    }
   ],
   "source": [
    "df.head()"
   ]
  },
  {
   "cell_type": "code",
   "execution_count": 4,
   "id": "c55c3179-da9b-4c09-892e-208e15b5e2c3",
   "metadata": {},
   "outputs": [
    {
     "data": {
      "text/plain": [
       "(4915, 12)"
      ]
     },
     "execution_count": 4,
     "metadata": {},
     "output_type": "execute_result"
    }
   ],
   "source": [
    "df.shape"
   ]
  },
  {
   "cell_type": "code",
   "execution_count": 5,
   "id": "45019060-11cb-4476-b0b3-daf728718f24",
   "metadata": {},
   "outputs": [
    {
     "data": {
      "text/plain": [
       "reviewerID        0\n",
       "asin              0\n",
       "reviewerName      1\n",
       "helpful           0\n",
       "reviewText        1\n",
       "overall           0\n",
       "summary           0\n",
       "unixReviewTime    0\n",
       "reviewTime        0\n",
       "day_diff          0\n",
       "helpful_yes       0\n",
       "total_vote        0\n",
       "dtype: int64"
      ]
     },
     "execution_count": 5,
     "metadata": {},
     "output_type": "execute_result"
    }
   ],
   "source": [
    "df.isnull().sum()"
   ]
  },
  {
   "cell_type": "code",
   "execution_count": 8,
   "id": "28d1b561-9282-4db4-aa31-7fa991ce58a5",
   "metadata": {},
   "outputs": [],
   "source": [
    "df1=df.dropna()"
   ]
  },
  {
   "cell_type": "code",
   "execution_count": 10,
   "id": "6e020ceb-97a0-4fe6-ae2b-e8acbedb4301",
   "metadata": {},
   "outputs": [
    {
     "data": {
      "text/plain": [
       "reviewerID        0\n",
       "asin              0\n",
       "reviewerName      0\n",
       "helpful           0\n",
       "reviewText        0\n",
       "overall           0\n",
       "summary           0\n",
       "unixReviewTime    0\n",
       "reviewTime        0\n",
       "day_diff          0\n",
       "helpful_yes       0\n",
       "total_vote        0\n",
       "dtype: int64"
      ]
     },
     "execution_count": 10,
     "metadata": {},
     "output_type": "execute_result"
    }
   ],
   "source": [
    "df1.isnull().sum()"
   ]
  },
  {
   "cell_type": "code",
   "execution_count": 11,
   "id": "f9faf864-95bb-408b-88e8-9c94176987a0",
   "metadata": {},
   "outputs": [
    {
     "data": {
      "text/html": [
       "<div>\n",
       "<style scoped>\n",
       "    .dataframe tbody tr th:only-of-type {\n",
       "        vertical-align: middle;\n",
       "    }\n",
       "\n",
       "    .dataframe tbody tr th {\n",
       "        vertical-align: top;\n",
       "    }\n",
       "\n",
       "    .dataframe thead th {\n",
       "        text-align: right;\n",
       "    }\n",
       "</style>\n",
       "<table border=\"1\" class=\"dataframe\">\n",
       "  <thead>\n",
       "    <tr style=\"text-align: right;\">\n",
       "      <th></th>\n",
       "      <th>reviewerID</th>\n",
       "      <th>asin</th>\n",
       "      <th>reviewerName</th>\n",
       "      <th>helpful</th>\n",
       "      <th>reviewText</th>\n",
       "      <th>overall</th>\n",
       "      <th>summary</th>\n",
       "      <th>unixReviewTime</th>\n",
       "      <th>reviewTime</th>\n",
       "      <th>day_diff</th>\n",
       "      <th>helpful_yes</th>\n",
       "      <th>total_vote</th>\n",
       "    </tr>\n",
       "  </thead>\n",
       "  <tbody>\n",
       "    <tr>\n",
       "      <th>1</th>\n",
       "      <td>A18K1ODH1I2MVB</td>\n",
       "      <td>B007WTAJTO</td>\n",
       "      <td>0mie</td>\n",
       "      <td>[0, 0]</td>\n",
       "      <td>Purchased this for my device, it worked as adv...</td>\n",
       "      <td>5.0</td>\n",
       "      <td>MOAR SPACE!!!</td>\n",
       "      <td>1382659200</td>\n",
       "      <td>2013-10-25</td>\n",
       "      <td>409</td>\n",
       "      <td>0</td>\n",
       "      <td>0</td>\n",
       "    </tr>\n",
       "    <tr>\n",
       "      <th>2</th>\n",
       "      <td>A2FII3I2MBMUIA</td>\n",
       "      <td>B007WTAJTO</td>\n",
       "      <td>1K3</td>\n",
       "      <td>[0, 0]</td>\n",
       "      <td>it works as expected. I should have sprung for...</td>\n",
       "      <td>4.0</td>\n",
       "      <td>nothing to really say....</td>\n",
       "      <td>1356220800</td>\n",
       "      <td>2012-12-23</td>\n",
       "      <td>715</td>\n",
       "      <td>0</td>\n",
       "      <td>0</td>\n",
       "    </tr>\n",
       "    <tr>\n",
       "      <th>3</th>\n",
       "      <td>A3H99DFEG68SR</td>\n",
       "      <td>B007WTAJTO</td>\n",
       "      <td>1m2</td>\n",
       "      <td>[0, 0]</td>\n",
       "      <td>This think has worked out great.Had a diff. br...</td>\n",
       "      <td>5.0</td>\n",
       "      <td>Great buy at this price!!!  *** UPDATE</td>\n",
       "      <td>1384992000</td>\n",
       "      <td>2013-11-21</td>\n",
       "      <td>382</td>\n",
       "      <td>0</td>\n",
       "      <td>0</td>\n",
       "    </tr>\n",
       "    <tr>\n",
       "      <th>4</th>\n",
       "      <td>A375ZM4U047O79</td>\n",
       "      <td>B007WTAJTO</td>\n",
       "      <td>2&amp;amp;1/2Men</td>\n",
       "      <td>[0, 0]</td>\n",
       "      <td>Bought it with Retail Packaging, arrived legit...</td>\n",
       "      <td>5.0</td>\n",
       "      <td>best deal around</td>\n",
       "      <td>1373673600</td>\n",
       "      <td>2013-07-13</td>\n",
       "      <td>513</td>\n",
       "      <td>0</td>\n",
       "      <td>0</td>\n",
       "    </tr>\n",
       "    <tr>\n",
       "      <th>5</th>\n",
       "      <td>A2IDCSC6NVONIZ</td>\n",
       "      <td>B007WTAJTO</td>\n",
       "      <td>2Cents!</td>\n",
       "      <td>[0, 0]</td>\n",
       "      <td>It's mini storage.  It doesn't do anything els...</td>\n",
       "      <td>5.0</td>\n",
       "      <td>Not a lot to really be said</td>\n",
       "      <td>1367193600</td>\n",
       "      <td>2013-04-29</td>\n",
       "      <td>588</td>\n",
       "      <td>0</td>\n",
       "      <td>0</td>\n",
       "    </tr>\n",
       "  </tbody>\n",
       "</table>\n",
       "</div>"
      ],
      "text/plain": [
       "       reviewerID        asin  reviewerName helpful  \\\n",
       "1  A18K1ODH1I2MVB  B007WTAJTO          0mie  [0, 0]   \n",
       "2  A2FII3I2MBMUIA  B007WTAJTO           1K3  [0, 0]   \n",
       "3   A3H99DFEG68SR  B007WTAJTO           1m2  [0, 0]   \n",
       "4  A375ZM4U047O79  B007WTAJTO  2&amp;1/2Men  [0, 0]   \n",
       "5  A2IDCSC6NVONIZ  B007WTAJTO       2Cents!  [0, 0]   \n",
       "\n",
       "                                          reviewText  overall  \\\n",
       "1  Purchased this for my device, it worked as adv...      5.0   \n",
       "2  it works as expected. I should have sprung for...      4.0   \n",
       "3  This think has worked out great.Had a diff. br...      5.0   \n",
       "4  Bought it with Retail Packaging, arrived legit...      5.0   \n",
       "5  It's mini storage.  It doesn't do anything els...      5.0   \n",
       "\n",
       "                                  summary  unixReviewTime  reviewTime  \\\n",
       "1                           MOAR SPACE!!!      1382659200  2013-10-25   \n",
       "2               nothing to really say....      1356220800  2012-12-23   \n",
       "3  Great buy at this price!!!  *** UPDATE      1384992000  2013-11-21   \n",
       "4                        best deal around      1373673600  2013-07-13   \n",
       "5             Not a lot to really be said      1367193600  2013-04-29   \n",
       "\n",
       "   day_diff  helpful_yes  total_vote  \n",
       "1       409            0           0  \n",
       "2       715            0           0  \n",
       "3       382            0           0  \n",
       "4       513            0           0  \n",
       "5       588            0           0  "
      ]
     },
     "execution_count": 11,
     "metadata": {},
     "output_type": "execute_result"
    }
   ],
   "source": [
    "df1.head()"
   ]
  },
  {
   "cell_type": "code",
   "execution_count": 12,
   "id": "8528068c-32ae-4492-83ea-ea21a3516346",
   "metadata": {},
   "outputs": [
    {
     "data": {
      "text/plain": [
       "(4913, 12)"
      ]
     },
     "execution_count": 12,
     "metadata": {},
     "output_type": "execute_result"
    }
   ],
   "source": [
    "df1.shape"
   ]
  },
  {
   "cell_type": "code",
   "execution_count": 13,
   "id": "91eec3dc-f753-4da1-a9e0-cf07a7aa19c8",
   "metadata": {},
   "outputs": [],
   "source": [
    "df2=df1.copy()"
   ]
  },
  {
   "cell_type": "code",
   "execution_count": 14,
   "id": "e9683029-df26-448f-b525-f16e8b05c65b",
   "metadata": {},
   "outputs": [],
   "source": [
    "df2=df2.drop(['reviewerID','asin','reviewerName','helpful','overall','summary','unixReviewTime','reviewTime','helpful_yes','day_diff','total_vote'],axis='columns')"
   ]
  },
  {
   "cell_type": "code",
   "execution_count": 15,
   "id": "4544a046-4615-41fd-8927-c598b14a7f5c",
   "metadata": {},
   "outputs": [
    {
     "data": {
      "text/html": [
       "<div>\n",
       "<style scoped>\n",
       "    .dataframe tbody tr th:only-of-type {\n",
       "        vertical-align: middle;\n",
       "    }\n",
       "\n",
       "    .dataframe tbody tr th {\n",
       "        vertical-align: top;\n",
       "    }\n",
       "\n",
       "    .dataframe thead th {\n",
       "        text-align: right;\n",
       "    }\n",
       "</style>\n",
       "<table border=\"1\" class=\"dataframe\">\n",
       "  <thead>\n",
       "    <tr style=\"text-align: right;\">\n",
       "      <th></th>\n",
       "      <th>reviewText</th>\n",
       "    </tr>\n",
       "  </thead>\n",
       "  <tbody>\n",
       "    <tr>\n",
       "      <th>1</th>\n",
       "      <td>Purchased this for my device, it worked as adv...</td>\n",
       "    </tr>\n",
       "    <tr>\n",
       "      <th>2</th>\n",
       "      <td>it works as expected. I should have sprung for...</td>\n",
       "    </tr>\n",
       "    <tr>\n",
       "      <th>3</th>\n",
       "      <td>This think has worked out great.Had a diff. br...</td>\n",
       "    </tr>\n",
       "    <tr>\n",
       "      <th>4</th>\n",
       "      <td>Bought it with Retail Packaging, arrived legit...</td>\n",
       "    </tr>\n",
       "    <tr>\n",
       "      <th>5</th>\n",
       "      <td>It's mini storage.  It doesn't do anything els...</td>\n",
       "    </tr>\n",
       "  </tbody>\n",
       "</table>\n",
       "</div>"
      ],
      "text/plain": [
       "                                          reviewText\n",
       "1  Purchased this for my device, it worked as adv...\n",
       "2  it works as expected. I should have sprung for...\n",
       "3  This think has worked out great.Had a diff. br...\n",
       "4  Bought it with Retail Packaging, arrived legit...\n",
       "5  It's mini storage.  It doesn't do anything els..."
      ]
     },
     "execution_count": 15,
     "metadata": {},
     "output_type": "execute_result"
    }
   ],
   "source": [
    "df2.head()"
   ]
  },
  {
   "cell_type": "code",
   "execution_count": 16,
   "id": "cfe9fd77-6585-40fe-8f21-3f5d627c5723",
   "metadata": {},
   "outputs": [],
   "source": [
    "df2.reviewText=df2.reviewText.str.lower()"
   ]
  },
  {
   "cell_type": "code",
   "execution_count": 17,
   "id": "9bf14e3b-b3e8-455a-a135-462d8c98fc0a",
   "metadata": {},
   "outputs": [
    {
     "data": {
      "text/html": [
       "<div>\n",
       "<style scoped>\n",
       "    .dataframe tbody tr th:only-of-type {\n",
       "        vertical-align: middle;\n",
       "    }\n",
       "\n",
       "    .dataframe tbody tr th {\n",
       "        vertical-align: top;\n",
       "    }\n",
       "\n",
       "    .dataframe thead th {\n",
       "        text-align: right;\n",
       "    }\n",
       "</style>\n",
       "<table border=\"1\" class=\"dataframe\">\n",
       "  <thead>\n",
       "    <tr style=\"text-align: right;\">\n",
       "      <th></th>\n",
       "      <th>reviewText</th>\n",
       "    </tr>\n",
       "  </thead>\n",
       "  <tbody>\n",
       "    <tr>\n",
       "      <th>1</th>\n",
       "      <td>purchased this for my device, it worked as adv...</td>\n",
       "    </tr>\n",
       "    <tr>\n",
       "      <th>2</th>\n",
       "      <td>it works as expected. i should have sprung for...</td>\n",
       "    </tr>\n",
       "    <tr>\n",
       "      <th>3</th>\n",
       "      <td>this think has worked out great.had a diff. br...</td>\n",
       "    </tr>\n",
       "    <tr>\n",
       "      <th>4</th>\n",
       "      <td>bought it with retail packaging, arrived legit...</td>\n",
       "    </tr>\n",
       "    <tr>\n",
       "      <th>5</th>\n",
       "      <td>it's mini storage.  it doesn't do anything els...</td>\n",
       "    </tr>\n",
       "  </tbody>\n",
       "</table>\n",
       "</div>"
      ],
      "text/plain": [
       "                                          reviewText\n",
       "1  purchased this for my device, it worked as adv...\n",
       "2  it works as expected. i should have sprung for...\n",
       "3  this think has worked out great.had a diff. br...\n",
       "4  bought it with retail packaging, arrived legit...\n",
       "5  it's mini storage.  it doesn't do anything els..."
      ]
     },
     "execution_count": 17,
     "metadata": {},
     "output_type": "execute_result"
    }
   ],
   "source": [
    "df2.head()"
   ]
  },
  {
   "cell_type": "code",
   "execution_count": 18,
   "id": "60beb7d4-8865-4c33-bc28-a67bbac2df1a",
   "metadata": {},
   "outputs": [],
   "source": [
    "df2['reviewText']=df2.reviewText.str.strip() # Remove leading/trailing whitespaces\n",
    "df2.reviewText=df2.reviewText.str.replace(r\"\\s+\",' ',regex=True) # Replace multiple spaces with a single space"
   ]
  },
  {
   "cell_type": "code",
   "execution_count": 19,
   "id": "0c085f6c-30a9-46b9-be1f-6344f2ac5880",
   "metadata": {},
   "outputs": [
    {
     "data": {
      "text/html": [
       "<div>\n",
       "<style scoped>\n",
       "    .dataframe tbody tr th:only-of-type {\n",
       "        vertical-align: middle;\n",
       "    }\n",
       "\n",
       "    .dataframe tbody tr th {\n",
       "        vertical-align: top;\n",
       "    }\n",
       "\n",
       "    .dataframe thead th {\n",
       "        text-align: right;\n",
       "    }\n",
       "</style>\n",
       "<table border=\"1\" class=\"dataframe\">\n",
       "  <thead>\n",
       "    <tr style=\"text-align: right;\">\n",
       "      <th></th>\n",
       "      <th>reviewText</th>\n",
       "    </tr>\n",
       "  </thead>\n",
       "  <tbody>\n",
       "    <tr>\n",
       "      <th>1</th>\n",
       "      <td>purchased this for my device, it worked as adv...</td>\n",
       "    </tr>\n",
       "    <tr>\n",
       "      <th>2</th>\n",
       "      <td>it works as expected. i should have sprung for...</td>\n",
       "    </tr>\n",
       "    <tr>\n",
       "      <th>3</th>\n",
       "      <td>this think has worked out great.had a diff. br...</td>\n",
       "    </tr>\n",
       "    <tr>\n",
       "      <th>4</th>\n",
       "      <td>bought it with retail packaging, arrived legit...</td>\n",
       "    </tr>\n",
       "    <tr>\n",
       "      <th>5</th>\n",
       "      <td>it's mini storage. it doesn't do anything else...</td>\n",
       "    </tr>\n",
       "  </tbody>\n",
       "</table>\n",
       "</div>"
      ],
      "text/plain": [
       "                                          reviewText\n",
       "1  purchased this for my device, it worked as adv...\n",
       "2  it works as expected. i should have sprung for...\n",
       "3  this think has worked out great.had a diff. br...\n",
       "4  bought it with retail packaging, arrived legit...\n",
       "5  it's mini storage. it doesn't do anything else..."
      ]
     },
     "execution_count": 19,
     "metadata": {},
     "output_type": "execute_result"
    }
   ],
   "source": [
    "df2.head()"
   ]
  },
  {
   "cell_type": "markdown",
   "id": "2bc8ba43-435a-4d15-bd75-235b1eced2f5",
   "metadata": {},
   "source": [
    "# Text Pre Processing Advanced"
   ]
  },
  {
   "cell_type": "code",
   "execution_count": 22,
   "id": "273395df-feb8-40c0-b0f4-51da73be6537",
   "metadata": {},
   "outputs": [],
   "source": [
    "df3=df2.copy()"
   ]
  },
  {
   "cell_type": "code",
   "execution_count": 20,
   "id": "8ca8bd2c-ae2f-4a77-a6b5-07d2df5f4f99",
   "metadata": {},
   "outputs": [],
   "source": [
    "import re\n",
    "from nltk.corpus import stopwords\n",
    "from nltk.tokenize import word_tokenize\n",
    "import nltk"
   ]
  },
  {
   "cell_type": "code",
   "execution_count": 21,
   "id": "eeab0010-a00c-468a-b39c-9a30349cdc2e",
   "metadata": {},
   "outputs": [
    {
     "name": "stderr",
     "output_type": "stream",
     "text": [
      "[nltk_data] Downloading package stopwords to\n",
      "[nltk_data]     C:\\Users\\saifu\\AppData\\Roaming\\nltk_data...\n",
      "[nltk_data]   Package stopwords is already up-to-date!\n",
      "[nltk_data] Downloading package punkt to\n",
      "[nltk_data]     C:\\Users\\saifu\\AppData\\Roaming\\nltk_data...\n",
      "[nltk_data]   Package punkt is already up-to-date!\n",
      "[nltk_data] Downloading package punkt_tab to\n",
      "[nltk_data]     C:\\Users\\saifu\\AppData\\Roaming\\nltk_data...\n",
      "[nltk_data]   Package punkt_tab is already up-to-date!\n"
     ]
    },
    {
     "data": {
      "text/plain": [
       "True"
      ]
     },
     "execution_count": 21,
     "metadata": {},
     "output_type": "execute_result"
    }
   ],
   "source": [
    "nltk.download('stopwords')\n",
    "nltk.download('punkt')\n",
    "nltk.download('punkt_tab')"
   ]
  },
  {
   "cell_type": "code",
   "execution_count": 23,
   "id": "613d515d-0e63-4954-8782-567a05c2165a",
   "metadata": {},
   "outputs": [],
   "source": [
    "#r'[^a-z\\s]': Removes any character that is not a lowercase letter (a-z) or a space (\\s)\n",
    "df3.reviewText=df3.reviewText.apply(lambda x: re.sub(r'[^a-z\\s]','',x.lower())) #before applying the function it make all review to lower case"
   ]
  },
  {
   "cell_type": "code",
   "execution_count": 24,
   "id": "6d98369f-afab-4587-b896-ecb5dff5f27d",
   "metadata": {},
   "outputs": [],
   "source": [
    "#df3.reviewText=df3.reviewText.apply(lambda x: word_tokenize(x))\n",
    "df3['tokens'] = df3['reviewText'].apply(lambda x: word_tokenize(x))"
   ]
  },
  {
   "cell_type": "code",
   "execution_count": 25,
   "id": "4e71f0ee-6503-4741-b3bb-f14a4076efeb",
   "metadata": {},
   "outputs": [
    {
     "data": {
      "text/html": [
       "<div>\n",
       "<style scoped>\n",
       "    .dataframe tbody tr th:only-of-type {\n",
       "        vertical-align: middle;\n",
       "    }\n",
       "\n",
       "    .dataframe tbody tr th {\n",
       "        vertical-align: top;\n",
       "    }\n",
       "\n",
       "    .dataframe thead th {\n",
       "        text-align: right;\n",
       "    }\n",
       "</style>\n",
       "<table border=\"1\" class=\"dataframe\">\n",
       "  <thead>\n",
       "    <tr style=\"text-align: right;\">\n",
       "      <th></th>\n",
       "      <th>reviewText</th>\n",
       "      <th>tokens</th>\n",
       "    </tr>\n",
       "  </thead>\n",
       "  <tbody>\n",
       "    <tr>\n",
       "      <th>1</th>\n",
       "      <td>purchased this for my device it worked as adve...</td>\n",
       "      <td>[purchased, this, for, my, device, it, worked,...</td>\n",
       "    </tr>\n",
       "    <tr>\n",
       "      <th>2</th>\n",
       "      <td>it works as expected i should have sprung for ...</td>\n",
       "      <td>[it, works, as, expected, i, should, have, spr...</td>\n",
       "    </tr>\n",
       "    <tr>\n",
       "      <th>3</th>\n",
       "      <td>this think has worked out greathad a diff bran...</td>\n",
       "      <td>[this, think, has, worked, out, greathad, a, d...</td>\n",
       "    </tr>\n",
       "    <tr>\n",
       "      <th>4</th>\n",
       "      <td>bought it with retail packaging arrived legit ...</td>\n",
       "      <td>[bought, it, with, retail, packaging, arrived,...</td>\n",
       "    </tr>\n",
       "    <tr>\n",
       "      <th>5</th>\n",
       "      <td>its mini storage it doesnt do anything else an...</td>\n",
       "      <td>[its, mini, storage, it, doesnt, do, anything,...</td>\n",
       "    </tr>\n",
       "  </tbody>\n",
       "</table>\n",
       "</div>"
      ],
      "text/plain": [
       "                                          reviewText  \\\n",
       "1  purchased this for my device it worked as adve...   \n",
       "2  it works as expected i should have sprung for ...   \n",
       "3  this think has worked out greathad a diff bran...   \n",
       "4  bought it with retail packaging arrived legit ...   \n",
       "5  its mini storage it doesnt do anything else an...   \n",
       "\n",
       "                                              tokens  \n",
       "1  [purchased, this, for, my, device, it, worked,...  \n",
       "2  [it, works, as, expected, i, should, have, spr...  \n",
       "3  [this, think, has, worked, out, greathad, a, d...  \n",
       "4  [bought, it, with, retail, packaging, arrived,...  \n",
       "5  [its, mini, storage, it, doesnt, do, anything,...  "
      ]
     },
     "execution_count": 25,
     "metadata": {},
     "output_type": "execute_result"
    }
   ],
   "source": [
    "df3.head()"
   ]
  },
  {
   "cell_type": "code",
   "execution_count": 26,
   "id": "13c056d5-02f4-4348-bf8b-a1c413e8f7da",
   "metadata": {},
   "outputs": [],
   "source": [
    "#Remove stopwords\n",
    "stop_words=set(stopwords.words('english'))\n",
    "df3.tokens=df3.tokens.apply(lambda x:[word for word in x if word.lower() not in stop_words])"
   ]
  },
  {
   "cell_type": "code",
   "execution_count": 27,
   "id": "94892672-ba1a-4085-9357-129a948f6c9d",
   "metadata": {},
   "outputs": [
    {
     "data": {
      "text/html": [
       "<div>\n",
       "<style scoped>\n",
       "    .dataframe tbody tr th:only-of-type {\n",
       "        vertical-align: middle;\n",
       "    }\n",
       "\n",
       "    .dataframe tbody tr th {\n",
       "        vertical-align: top;\n",
       "    }\n",
       "\n",
       "    .dataframe thead th {\n",
       "        text-align: right;\n",
       "    }\n",
       "</style>\n",
       "<table border=\"1\" class=\"dataframe\">\n",
       "  <thead>\n",
       "    <tr style=\"text-align: right;\">\n",
       "      <th></th>\n",
       "      <th>reviewText</th>\n",
       "      <th>tokens</th>\n",
       "    </tr>\n",
       "  </thead>\n",
       "  <tbody>\n",
       "    <tr>\n",
       "      <th>1</th>\n",
       "      <td>purchased this for my device it worked as adve...</td>\n",
       "      <td>[purchased, device, worked, advertised, never,...</td>\n",
       "    </tr>\n",
       "    <tr>\n",
       "      <th>2</th>\n",
       "      <td>it works as expected i should have sprung for ...</td>\n",
       "      <td>[works, expected, sprung, higher, capacity, th...</td>\n",
       "    </tr>\n",
       "    <tr>\n",
       "      <th>3</th>\n",
       "      <td>this think has worked out greathad a diff bran...</td>\n",
       "      <td>[think, worked, greathad, diff, bran, gb, card...</td>\n",
       "    </tr>\n",
       "    <tr>\n",
       "      <th>4</th>\n",
       "      <td>bought it with retail packaging arrived legit ...</td>\n",
       "      <td>[bought, retail, packaging, arrived, legit, or...</td>\n",
       "    </tr>\n",
       "    <tr>\n",
       "      <th>5</th>\n",
       "      <td>its mini storage it doesnt do anything else an...</td>\n",
       "      <td>[mini, storage, doesnt, anything, else, suppos...</td>\n",
       "    </tr>\n",
       "  </tbody>\n",
       "</table>\n",
       "</div>"
      ],
      "text/plain": [
       "                                          reviewText  \\\n",
       "1  purchased this for my device it worked as adve...   \n",
       "2  it works as expected i should have sprung for ...   \n",
       "3  this think has worked out greathad a diff bran...   \n",
       "4  bought it with retail packaging arrived legit ...   \n",
       "5  its mini storage it doesnt do anything else an...   \n",
       "\n",
       "                                              tokens  \n",
       "1  [purchased, device, worked, advertised, never,...  \n",
       "2  [works, expected, sprung, higher, capacity, th...  \n",
       "3  [think, worked, greathad, diff, bran, gb, card...  \n",
       "4  [bought, retail, packaging, arrived, legit, or...  \n",
       "5  [mini, storage, doesnt, anything, else, suppos...  "
      ]
     },
     "execution_count": 27,
     "metadata": {},
     "output_type": "execute_result"
    }
   ],
   "source": [
    "df3.head()"
   ]
  },
  {
   "cell_type": "code",
   "execution_count": 28,
   "id": "17e2f076-89e9-476b-9f95-6562c627ae34",
   "metadata": {},
   "outputs": [],
   "source": [
    "df3['cleaned_text']=df3.tokens.apply(lambda x: ' '.join(x))"
   ]
  },
  {
   "cell_type": "code",
   "execution_count": 29,
   "id": "2ec7aadf-d62e-4d89-845e-ecadf4666293",
   "metadata": {},
   "outputs": [
    {
     "data": {
      "text/html": [
       "<div>\n",
       "<style scoped>\n",
       "    .dataframe tbody tr th:only-of-type {\n",
       "        vertical-align: middle;\n",
       "    }\n",
       "\n",
       "    .dataframe tbody tr th {\n",
       "        vertical-align: top;\n",
       "    }\n",
       "\n",
       "    .dataframe thead th {\n",
       "        text-align: right;\n",
       "    }\n",
       "</style>\n",
       "<table border=\"1\" class=\"dataframe\">\n",
       "  <thead>\n",
       "    <tr style=\"text-align: right;\">\n",
       "      <th></th>\n",
       "      <th>reviewText</th>\n",
       "      <th>tokens</th>\n",
       "      <th>cleaned_text</th>\n",
       "    </tr>\n",
       "  </thead>\n",
       "  <tbody>\n",
       "    <tr>\n",
       "      <th>1</th>\n",
       "      <td>purchased this for my device it worked as adve...</td>\n",
       "      <td>[purchased, device, worked, advertised, never,...</td>\n",
       "      <td>purchased device worked advertised never much ...</td>\n",
       "    </tr>\n",
       "    <tr>\n",
       "      <th>2</th>\n",
       "      <td>it works as expected i should have sprung for ...</td>\n",
       "      <td>[works, expected, sprung, higher, capacity, th...</td>\n",
       "      <td>works expected sprung higher capacity think ma...</td>\n",
       "    </tr>\n",
       "    <tr>\n",
       "      <th>3</th>\n",
       "      <td>this think has worked out greathad a diff bran...</td>\n",
       "      <td>[think, worked, greathad, diff, bran, gb, card...</td>\n",
       "      <td>think worked greathad diff bran gb card went s...</td>\n",
       "    </tr>\n",
       "    <tr>\n",
       "      <th>4</th>\n",
       "      <td>bought it with retail packaging arrived legit ...</td>\n",
       "      <td>[bought, retail, packaging, arrived, legit, or...</td>\n",
       "      <td>bought retail packaging arrived legit orange e...</td>\n",
       "    </tr>\n",
       "    <tr>\n",
       "      <th>5</th>\n",
       "      <td>its mini storage it doesnt do anything else an...</td>\n",
       "      <td>[mini, storage, doesnt, anything, else, suppos...</td>\n",
       "      <td>mini storage doesnt anything else supposed pur...</td>\n",
       "    </tr>\n",
       "  </tbody>\n",
       "</table>\n",
       "</div>"
      ],
      "text/plain": [
       "                                          reviewText  \\\n",
       "1  purchased this for my device it worked as adve...   \n",
       "2  it works as expected i should have sprung for ...   \n",
       "3  this think has worked out greathad a diff bran...   \n",
       "4  bought it with retail packaging arrived legit ...   \n",
       "5  its mini storage it doesnt do anything else an...   \n",
       "\n",
       "                                              tokens  \\\n",
       "1  [purchased, device, worked, advertised, never,...   \n",
       "2  [works, expected, sprung, higher, capacity, th...   \n",
       "3  [think, worked, greathad, diff, bran, gb, card...   \n",
       "4  [bought, retail, packaging, arrived, legit, or...   \n",
       "5  [mini, storage, doesnt, anything, else, suppos...   \n",
       "\n",
       "                                        cleaned_text  \n",
       "1  purchased device worked advertised never much ...  \n",
       "2  works expected sprung higher capacity think ma...  \n",
       "3  think worked greathad diff bran gb card went s...  \n",
       "4  bought retail packaging arrived legit orange e...  \n",
       "5  mini storage doesnt anything else supposed pur...  "
      ]
     },
     "execution_count": 29,
     "metadata": {},
     "output_type": "execute_result"
    }
   ],
   "source": [
    "df3.head()"
   ]
  },
  {
   "cell_type": "code",
   "execution_count": 30,
   "id": "287cf191-8c87-403b-9032-5f6f9ca07c1a",
   "metadata": {},
   "outputs": [],
   "source": [
    "df4=df3.copy()"
   ]
  },
  {
   "cell_type": "code",
   "execution_count": 31,
   "id": "b3835205-7344-4bc3-be01-ca26586566ce",
   "metadata": {},
   "outputs": [
    {
     "data": {
      "text/html": [
       "<div>\n",
       "<style scoped>\n",
       "    .dataframe tbody tr th:only-of-type {\n",
       "        vertical-align: middle;\n",
       "    }\n",
       "\n",
       "    .dataframe tbody tr th {\n",
       "        vertical-align: top;\n",
       "    }\n",
       "\n",
       "    .dataframe thead th {\n",
       "        text-align: right;\n",
       "    }\n",
       "</style>\n",
       "<table border=\"1\" class=\"dataframe\">\n",
       "  <thead>\n",
       "    <tr style=\"text-align: right;\">\n",
       "      <th></th>\n",
       "      <th>reviewText</th>\n",
       "      <th>tokens</th>\n",
       "      <th>cleaned_text</th>\n",
       "    </tr>\n",
       "  </thead>\n",
       "  <tbody>\n",
       "    <tr>\n",
       "      <th>1</th>\n",
       "      <td>purchased this for my device it worked as adve...</td>\n",
       "      <td>[purchased, device, worked, advertised, never,...</td>\n",
       "      <td>purchased device worked advertised never much ...</td>\n",
       "    </tr>\n",
       "    <tr>\n",
       "      <th>2</th>\n",
       "      <td>it works as expected i should have sprung for ...</td>\n",
       "      <td>[works, expected, sprung, higher, capacity, th...</td>\n",
       "      <td>works expected sprung higher capacity think ma...</td>\n",
       "    </tr>\n",
       "    <tr>\n",
       "      <th>3</th>\n",
       "      <td>this think has worked out greathad a diff bran...</td>\n",
       "      <td>[think, worked, greathad, diff, bran, gb, card...</td>\n",
       "      <td>think worked greathad diff bran gb card went s...</td>\n",
       "    </tr>\n",
       "    <tr>\n",
       "      <th>4</th>\n",
       "      <td>bought it with retail packaging arrived legit ...</td>\n",
       "      <td>[bought, retail, packaging, arrived, legit, or...</td>\n",
       "      <td>bought retail packaging arrived legit orange e...</td>\n",
       "    </tr>\n",
       "    <tr>\n",
       "      <th>5</th>\n",
       "      <td>its mini storage it doesnt do anything else an...</td>\n",
       "      <td>[mini, storage, doesnt, anything, else, suppos...</td>\n",
       "      <td>mini storage doesnt anything else supposed pur...</td>\n",
       "    </tr>\n",
       "  </tbody>\n",
       "</table>\n",
       "</div>"
      ],
      "text/plain": [
       "                                          reviewText  \\\n",
       "1  purchased this for my device it worked as adve...   \n",
       "2  it works as expected i should have sprung for ...   \n",
       "3  this think has worked out greathad a diff bran...   \n",
       "4  bought it with retail packaging arrived legit ...   \n",
       "5  its mini storage it doesnt do anything else an...   \n",
       "\n",
       "                                              tokens  \\\n",
       "1  [purchased, device, worked, advertised, never,...   \n",
       "2  [works, expected, sprung, higher, capacity, th...   \n",
       "3  [think, worked, greathad, diff, bran, gb, card...   \n",
       "4  [bought, retail, packaging, arrived, legit, or...   \n",
       "5  [mini, storage, doesnt, anything, else, suppos...   \n",
       "\n",
       "                                        cleaned_text  \n",
       "1  purchased device worked advertised never much ...  \n",
       "2  works expected sprung higher capacity think ma...  \n",
       "3  think worked greathad diff bran gb card went s...  \n",
       "4  bought retail packaging arrived legit orange e...  \n",
       "5  mini storage doesnt anything else supposed pur...  "
      ]
     },
     "execution_count": 31,
     "metadata": {},
     "output_type": "execute_result"
    }
   ],
   "source": [
    "df4.head()"
   ]
  },
  {
   "cell_type": "code",
   "execution_count": 32,
   "id": "19cf3433-4d5c-43e1-8495-13382e9ef59f",
   "metadata": {},
   "outputs": [],
   "source": [
    "df4=df4.drop(['reviewText','tokens'],axis='columns')"
   ]
  },
  {
   "cell_type": "code",
   "execution_count": 33,
   "id": "da289282-ff90-403d-b86d-bbdcae4404c9",
   "metadata": {},
   "outputs": [
    {
     "data": {
      "text/html": [
       "<div>\n",
       "<style scoped>\n",
       "    .dataframe tbody tr th:only-of-type {\n",
       "        vertical-align: middle;\n",
       "    }\n",
       "\n",
       "    .dataframe tbody tr th {\n",
       "        vertical-align: top;\n",
       "    }\n",
       "\n",
       "    .dataframe thead th {\n",
       "        text-align: right;\n",
       "    }\n",
       "</style>\n",
       "<table border=\"1\" class=\"dataframe\">\n",
       "  <thead>\n",
       "    <tr style=\"text-align: right;\">\n",
       "      <th></th>\n",
       "      <th>cleaned_text</th>\n",
       "    </tr>\n",
       "  </thead>\n",
       "  <tbody>\n",
       "    <tr>\n",
       "      <th>1</th>\n",
       "      <td>purchased device worked advertised never much ...</td>\n",
       "    </tr>\n",
       "    <tr>\n",
       "      <th>2</th>\n",
       "      <td>works expected sprung higher capacity think ma...</td>\n",
       "    </tr>\n",
       "    <tr>\n",
       "      <th>3</th>\n",
       "      <td>think worked greathad diff bran gb card went s...</td>\n",
       "    </tr>\n",
       "    <tr>\n",
       "      <th>4</th>\n",
       "      <td>bought retail packaging arrived legit orange e...</td>\n",
       "    </tr>\n",
       "    <tr>\n",
       "      <th>5</th>\n",
       "      <td>mini storage doesnt anything else supposed pur...</td>\n",
       "    </tr>\n",
       "  </tbody>\n",
       "</table>\n",
       "</div>"
      ],
      "text/plain": [
       "                                        cleaned_text\n",
       "1  purchased device worked advertised never much ...\n",
       "2  works expected sprung higher capacity think ma...\n",
       "3  think worked greathad diff bran gb card went s...\n",
       "4  bought retail packaging arrived legit orange e...\n",
       "5  mini storage doesnt anything else supposed pur..."
      ]
     },
     "execution_count": 33,
     "metadata": {},
     "output_type": "execute_result"
    }
   ],
   "source": [
    "df4.head()"
   ]
  },
  {
   "cell_type": "markdown",
   "id": "cc6a03a1-2e02-44f3-bc95-8a1b0e4aedf1",
   "metadata": {},
   "source": [
    "# Now going to label the cleaned text as Positive or Negative Using VADER"
   ]
  },
  {
   "cell_type": "code",
   "execution_count": 36,
   "id": "c84fc5cb-3e17-4418-963a-3cab7d787767",
   "metadata": {},
   "outputs": [],
   "source": [
    "from vaderSentiment.vaderSentiment import SentimentIntensityAnalyzer"
   ]
  },
  {
   "cell_type": "code",
   "execution_count": 37,
   "id": "3f68e028-43a1-4856-9650-9ea8aa393e0f",
   "metadata": {},
   "outputs": [],
   "source": [
    "#initialyze vaderSentiment Analyzer\n",
    "analyzer=SentimentIntensityAnalyzer()"
   ]
  },
  {
   "cell_type": "code",
   "execution_count": 38,
   "id": "6e01e83d-10a2-4a37-aac2-b895acfb31ff",
   "metadata": {},
   "outputs": [
    {
     "data": {
      "text/plain": [
       "{'neg': 0.0, 'neu': 0.323, 'pos': 0.677, 'compound': 0.6369}"
      ]
     },
     "execution_count": 38,
     "metadata": {},
     "output_type": "execute_result"
    }
   ],
   "source": [
    "analyzer.polarity_scores(\"I love you\")"
   ]
  },
  {
   "cell_type": "code",
   "execution_count": 39,
   "id": "0a4ba83c-abce-409a-a695-f034082cef50",
   "metadata": {},
   "outputs": [
    {
     "data": {
      "text/plain": [
       "{'neg': 0.376, 'neu': 0.624, 'pos': 0.0, 'compound': -0.3412}"
      ]
     },
     "execution_count": 39,
     "metadata": {},
     "output_type": "execute_result"
    }
   ],
   "source": [
    "analyzer.polarity_scores(\"The product is not good\")"
   ]
  },
  {
   "cell_type": "code",
   "execution_count": 40,
   "id": "8cc7f2b7-9c85-4b30-bb11-9c59030ba5c1",
   "metadata": {},
   "outputs": [],
   "source": [
    "df5=df4.copy()"
   ]
  },
  {
   "cell_type": "code",
   "execution_count": 41,
   "id": "4f277652-2668-4fb2-a51f-7c41d2bc2c2a",
   "metadata": {},
   "outputs": [
    {
     "data": {
      "text/html": [
       "<div>\n",
       "<style scoped>\n",
       "    .dataframe tbody tr th:only-of-type {\n",
       "        vertical-align: middle;\n",
       "    }\n",
       "\n",
       "    .dataframe tbody tr th {\n",
       "        vertical-align: top;\n",
       "    }\n",
       "\n",
       "    .dataframe thead th {\n",
       "        text-align: right;\n",
       "    }\n",
       "</style>\n",
       "<table border=\"1\" class=\"dataframe\">\n",
       "  <thead>\n",
       "    <tr style=\"text-align: right;\">\n",
       "      <th></th>\n",
       "      <th>cleaned_text</th>\n",
       "    </tr>\n",
       "  </thead>\n",
       "  <tbody>\n",
       "    <tr>\n",
       "      <th>1</th>\n",
       "      <td>purchased device worked advertised never much ...</td>\n",
       "    </tr>\n",
       "    <tr>\n",
       "      <th>2</th>\n",
       "      <td>works expected sprung higher capacity think ma...</td>\n",
       "    </tr>\n",
       "    <tr>\n",
       "      <th>3</th>\n",
       "      <td>think worked greathad diff bran gb card went s...</td>\n",
       "    </tr>\n",
       "    <tr>\n",
       "      <th>4</th>\n",
       "      <td>bought retail packaging arrived legit orange e...</td>\n",
       "    </tr>\n",
       "    <tr>\n",
       "      <th>5</th>\n",
       "      <td>mini storage doesnt anything else supposed pur...</td>\n",
       "    </tr>\n",
       "  </tbody>\n",
       "</table>\n",
       "</div>"
      ],
      "text/plain": [
       "                                        cleaned_text\n",
       "1  purchased device worked advertised never much ...\n",
       "2  works expected sprung higher capacity think ma...\n",
       "3  think worked greathad diff bran gb card went s...\n",
       "4  bought retail packaging arrived legit orange e...\n",
       "5  mini storage doesnt anything else supposed pur..."
      ]
     },
     "execution_count": 41,
     "metadata": {},
     "output_type": "execute_result"
    }
   ],
   "source": [
    "df5.head()"
   ]
  },
  {
   "cell_type": "code",
   "execution_count": 42,
   "id": "14f5142e-28e8-4484-96ae-18c66817275f",
   "metadata": {},
   "outputs": [],
   "source": [
    "df5['polarity_value']=df5.cleaned_text.apply(lambda x: analyzer.polarity_scores(x)['compound'])"
   ]
  },
  {
   "cell_type": "code",
   "execution_count": 43,
   "id": "4835e066-c520-428d-83c9-314646c1befb",
   "metadata": {},
   "outputs": [
    {
     "data": {
      "text/html": [
       "<div>\n",
       "<style scoped>\n",
       "    .dataframe tbody tr th:only-of-type {\n",
       "        vertical-align: middle;\n",
       "    }\n",
       "\n",
       "    .dataframe tbody tr th {\n",
       "        vertical-align: top;\n",
       "    }\n",
       "\n",
       "    .dataframe thead th {\n",
       "        text-align: right;\n",
       "    }\n",
       "</style>\n",
       "<table border=\"1\" class=\"dataframe\">\n",
       "  <thead>\n",
       "    <tr style=\"text-align: right;\">\n",
       "      <th></th>\n",
       "      <th>cleaned_text</th>\n",
       "      <th>polarity_value</th>\n",
       "    </tr>\n",
       "  </thead>\n",
       "  <tbody>\n",
       "    <tr>\n",
       "      <th>1</th>\n",
       "      <td>purchased device worked advertised never much ...</td>\n",
       "      <td>0.0000</td>\n",
       "    </tr>\n",
       "    <tr>\n",
       "      <th>2</th>\n",
       "      <td>works expected sprung higher capacity think ma...</td>\n",
       "      <td>0.4019</td>\n",
       "    </tr>\n",
       "    <tr>\n",
       "      <th>3</th>\n",
       "      <td>think worked greathad diff bran gb card went s...</td>\n",
       "      <td>0.6486</td>\n",
       "    </tr>\n",
       "    <tr>\n",
       "      <th>4</th>\n",
       "      <td>bought retail packaging arrived legit orange e...</td>\n",
       "      <td>0.8591</td>\n",
       "    </tr>\n",
       "    <tr>\n",
       "      <th>5</th>\n",
       "      <td>mini storage doesnt anything else supposed pur...</td>\n",
       "      <td>0.0000</td>\n",
       "    </tr>\n",
       "  </tbody>\n",
       "</table>\n",
       "</div>"
      ],
      "text/plain": [
       "                                        cleaned_text  polarity_value\n",
       "1  purchased device worked advertised never much ...          0.0000\n",
       "2  works expected sprung higher capacity think ma...          0.4019\n",
       "3  think worked greathad diff bran gb card went s...          0.6486\n",
       "4  bought retail packaging arrived legit orange e...          0.8591\n",
       "5  mini storage doesnt anything else supposed pur...          0.0000"
      ]
     },
     "execution_count": 43,
     "metadata": {},
     "output_type": "execute_result"
    }
   ],
   "source": [
    "df5.head()"
   ]
  },
  {
   "cell_type": "code",
   "execution_count": 44,
   "id": "8dd4f00d-a9f3-4082-825a-b34abcfc801e",
   "metadata": {},
   "outputs": [],
   "source": [
    "df5['sentiment_label']=df5.cleaned_text.apply(lambda x: 'pos' if analyzer.polarity_scores(x)[\"compound\"]>0 else 'neg')"
   ]
  },
  {
   "cell_type": "code",
   "execution_count": 45,
   "id": "50144ae0-4370-4476-b6cf-2a5c2a6d1ae3",
   "metadata": {},
   "outputs": [
    {
     "data": {
      "text/html": [
       "<div>\n",
       "<style scoped>\n",
       "    .dataframe tbody tr th:only-of-type {\n",
       "        vertical-align: middle;\n",
       "    }\n",
       "\n",
       "    .dataframe tbody tr th {\n",
       "        vertical-align: top;\n",
       "    }\n",
       "\n",
       "    .dataframe thead th {\n",
       "        text-align: right;\n",
       "    }\n",
       "</style>\n",
       "<table border=\"1\" class=\"dataframe\">\n",
       "  <thead>\n",
       "    <tr style=\"text-align: right;\">\n",
       "      <th></th>\n",
       "      <th>cleaned_text</th>\n",
       "      <th>polarity_value</th>\n",
       "      <th>sentiment_label</th>\n",
       "    </tr>\n",
       "  </thead>\n",
       "  <tbody>\n",
       "    <tr>\n",
       "      <th>1</th>\n",
       "      <td>purchased device worked advertised never much ...</td>\n",
       "      <td>0.0000</td>\n",
       "      <td>neg</td>\n",
       "    </tr>\n",
       "    <tr>\n",
       "      <th>2</th>\n",
       "      <td>works expected sprung higher capacity think ma...</td>\n",
       "      <td>0.4019</td>\n",
       "      <td>pos</td>\n",
       "    </tr>\n",
       "    <tr>\n",
       "      <th>3</th>\n",
       "      <td>think worked greathad diff bran gb card went s...</td>\n",
       "      <td>0.6486</td>\n",
       "      <td>pos</td>\n",
       "    </tr>\n",
       "    <tr>\n",
       "      <th>4</th>\n",
       "      <td>bought retail packaging arrived legit orange e...</td>\n",
       "      <td>0.8591</td>\n",
       "      <td>pos</td>\n",
       "    </tr>\n",
       "    <tr>\n",
       "      <th>5</th>\n",
       "      <td>mini storage doesnt anything else supposed pur...</td>\n",
       "      <td>0.0000</td>\n",
       "      <td>neg</td>\n",
       "    </tr>\n",
       "  </tbody>\n",
       "</table>\n",
       "</div>"
      ],
      "text/plain": [
       "                                        cleaned_text  polarity_value  \\\n",
       "1  purchased device worked advertised never much ...          0.0000   \n",
       "2  works expected sprung higher capacity think ma...          0.4019   \n",
       "3  think worked greathad diff bran gb card went s...          0.6486   \n",
       "4  bought retail packaging arrived legit orange e...          0.8591   \n",
       "5  mini storage doesnt anything else supposed pur...          0.0000   \n",
       "\n",
       "  sentiment_label  \n",
       "1             neg  \n",
       "2             pos  \n",
       "3             pos  \n",
       "4             pos  \n",
       "5             neg  "
      ]
     },
     "execution_count": 45,
     "metadata": {},
     "output_type": "execute_result"
    }
   ],
   "source": [
    "df5.head()"
   ]
  },
  {
   "cell_type": "code",
   "execution_count": 46,
   "id": "17f2426f-6ef4-46f0-a136-dafba451fdff",
   "metadata": {},
   "outputs": [
    {
     "data": {
      "text/plain": [
       "sentiment_label\n",
       "pos    3937\n",
       "neg     976\n",
       "Name: count, dtype: int64"
      ]
     },
     "execution_count": 46,
     "metadata": {},
     "output_type": "execute_result"
    }
   ],
   "source": [
    "df5.sentiment_label.value_counts()"
   ]
  },
  {
   "cell_type": "code",
   "execution_count": 47,
   "id": "0bc2c302-2c55-4043-b8a2-f804a9448b3c",
   "metadata": {},
   "outputs": [
    {
     "data": {
      "text/plain": [
       "array(['neg', 'pos'], dtype=object)"
      ]
     },
     "execution_count": 47,
     "metadata": {},
     "output_type": "execute_result"
    }
   ],
   "source": [
    "df5.sentiment_label.unique()"
   ]
  },
  {
   "cell_type": "code",
   "execution_count": 48,
   "id": "8879ffef-faae-4da5-b24b-3f02178742fd",
   "metadata": {},
   "outputs": [
    {
     "data": {
      "text/plain": [
       "(4913, 3)"
      ]
     },
     "execution_count": 48,
     "metadata": {},
     "output_type": "execute_result"
    }
   ],
   "source": [
    "df5.shape"
   ]
  },
  {
   "cell_type": "code",
   "execution_count": 49,
   "id": "b911562b-fafc-43e5-a1af-fb1043e80de9",
   "metadata": {},
   "outputs": [
    {
     "data": {
      "text/html": [
       "<div>\n",
       "<style scoped>\n",
       "    .dataframe tbody tr th:only-of-type {\n",
       "        vertical-align: middle;\n",
       "    }\n",
       "\n",
       "    .dataframe tbody tr th {\n",
       "        vertical-align: top;\n",
       "    }\n",
       "\n",
       "    .dataframe thead th {\n",
       "        text-align: right;\n",
       "    }\n",
       "</style>\n",
       "<table border=\"1\" class=\"dataframe\">\n",
       "  <thead>\n",
       "    <tr style=\"text-align: right;\">\n",
       "      <th></th>\n",
       "      <th>cleaned_text</th>\n",
       "      <th>polarity_value</th>\n",
       "      <th>sentiment_label</th>\n",
       "    </tr>\n",
       "  </thead>\n",
       "  <tbody>\n",
       "    <tr>\n",
       "      <th>1</th>\n",
       "      <td>purchased device worked advertised never much ...</td>\n",
       "      <td>0.0000</td>\n",
       "      <td>neg</td>\n",
       "    </tr>\n",
       "    <tr>\n",
       "      <th>2</th>\n",
       "      <td>works expected sprung higher capacity think ma...</td>\n",
       "      <td>0.4019</td>\n",
       "      <td>pos</td>\n",
       "    </tr>\n",
       "    <tr>\n",
       "      <th>3</th>\n",
       "      <td>think worked greathad diff bran gb card went s...</td>\n",
       "      <td>0.6486</td>\n",
       "      <td>pos</td>\n",
       "    </tr>\n",
       "    <tr>\n",
       "      <th>4</th>\n",
       "      <td>bought retail packaging arrived legit orange e...</td>\n",
       "      <td>0.8591</td>\n",
       "      <td>pos</td>\n",
       "    </tr>\n",
       "    <tr>\n",
       "      <th>5</th>\n",
       "      <td>mini storage doesnt anything else supposed pur...</td>\n",
       "      <td>0.0000</td>\n",
       "      <td>neg</td>\n",
       "    </tr>\n",
       "  </tbody>\n",
       "</table>\n",
       "</div>"
      ],
      "text/plain": [
       "                                        cleaned_text  polarity_value  \\\n",
       "1  purchased device worked advertised never much ...          0.0000   \n",
       "2  works expected sprung higher capacity think ma...          0.4019   \n",
       "3  think worked greathad diff bran gb card went s...          0.6486   \n",
       "4  bought retail packaging arrived legit orange e...          0.8591   \n",
       "5  mini storage doesnt anything else supposed pur...          0.0000   \n",
       "\n",
       "  sentiment_label  \n",
       "1             neg  \n",
       "2             pos  \n",
       "3             pos  \n",
       "4             pos  \n",
       "5             neg  "
      ]
     },
     "execution_count": 49,
     "metadata": {},
     "output_type": "execute_result"
    }
   ],
   "source": [
    "df5.head()"
   ]
  },
  {
   "cell_type": "code",
   "execution_count": 51,
   "id": "678e4149-59f7-48d4-81ae-b3c9e3760f03",
   "metadata": {},
   "outputs": [],
   "source": [
    "label_mapping={'pos':1,'neg':0}\n",
    "df5.sentiment_label=df5.sentiment_label.map(label_mapping)"
   ]
  },
  {
   "cell_type": "code",
   "execution_count": 52,
   "id": "0488d056-b8ce-4a0f-bbec-6511007661c1",
   "metadata": {},
   "outputs": [
    {
     "data": {
      "text/html": [
       "<div>\n",
       "<style scoped>\n",
       "    .dataframe tbody tr th:only-of-type {\n",
       "        vertical-align: middle;\n",
       "    }\n",
       "\n",
       "    .dataframe tbody tr th {\n",
       "        vertical-align: top;\n",
       "    }\n",
       "\n",
       "    .dataframe thead th {\n",
       "        text-align: right;\n",
       "    }\n",
       "</style>\n",
       "<table border=\"1\" class=\"dataframe\">\n",
       "  <thead>\n",
       "    <tr style=\"text-align: right;\">\n",
       "      <th></th>\n",
       "      <th>cleaned_text</th>\n",
       "      <th>polarity_value</th>\n",
       "      <th>sentiment_label</th>\n",
       "    </tr>\n",
       "  </thead>\n",
       "  <tbody>\n",
       "    <tr>\n",
       "      <th>1</th>\n",
       "      <td>purchased device worked advertised never much ...</td>\n",
       "      <td>0.0000</td>\n",
       "      <td>0</td>\n",
       "    </tr>\n",
       "    <tr>\n",
       "      <th>2</th>\n",
       "      <td>works expected sprung higher capacity think ma...</td>\n",
       "      <td>0.4019</td>\n",
       "      <td>1</td>\n",
       "    </tr>\n",
       "    <tr>\n",
       "      <th>3</th>\n",
       "      <td>think worked greathad diff bran gb card went s...</td>\n",
       "      <td>0.6486</td>\n",
       "      <td>1</td>\n",
       "    </tr>\n",
       "    <tr>\n",
       "      <th>4</th>\n",
       "      <td>bought retail packaging arrived legit orange e...</td>\n",
       "      <td>0.8591</td>\n",
       "      <td>1</td>\n",
       "    </tr>\n",
       "    <tr>\n",
       "      <th>5</th>\n",
       "      <td>mini storage doesnt anything else supposed pur...</td>\n",
       "      <td>0.0000</td>\n",
       "      <td>0</td>\n",
       "    </tr>\n",
       "  </tbody>\n",
       "</table>\n",
       "</div>"
      ],
      "text/plain": [
       "                                        cleaned_text  polarity_value  \\\n",
       "1  purchased device worked advertised never much ...          0.0000   \n",
       "2  works expected sprung higher capacity think ma...          0.4019   \n",
       "3  think worked greathad diff bran gb card went s...          0.6486   \n",
       "4  bought retail packaging arrived legit orange e...          0.8591   \n",
       "5  mini storage doesnt anything else supposed pur...          0.0000   \n",
       "\n",
       "   sentiment_label  \n",
       "1                0  \n",
       "2                1  \n",
       "3                1  \n",
       "4                1  \n",
       "5                0  "
      ]
     },
     "execution_count": 52,
     "metadata": {},
     "output_type": "execute_result"
    }
   ],
   "source": [
    "df5.head()"
   ]
  },
  {
   "cell_type": "code",
   "execution_count": 53,
   "id": "aabef470-f0c7-48ef-839c-4930e9f55c2e",
   "metadata": {},
   "outputs": [],
   "source": [
    "df5=df5.drop(['polarity_value'],axis='columns')"
   ]
  },
  {
   "cell_type": "code",
   "execution_count": 54,
   "id": "fc2fe9d3-1eb5-4a7e-861b-b411ba12cabe",
   "metadata": {},
   "outputs": [
    {
     "data": {
      "text/html": [
       "<div>\n",
       "<style scoped>\n",
       "    .dataframe tbody tr th:only-of-type {\n",
       "        vertical-align: middle;\n",
       "    }\n",
       "\n",
       "    .dataframe tbody tr th {\n",
       "        vertical-align: top;\n",
       "    }\n",
       "\n",
       "    .dataframe thead th {\n",
       "        text-align: right;\n",
       "    }\n",
       "</style>\n",
       "<table border=\"1\" class=\"dataframe\">\n",
       "  <thead>\n",
       "    <tr style=\"text-align: right;\">\n",
       "      <th></th>\n",
       "      <th>cleaned_text</th>\n",
       "      <th>sentiment_label</th>\n",
       "    </tr>\n",
       "  </thead>\n",
       "  <tbody>\n",
       "    <tr>\n",
       "      <th>1</th>\n",
       "      <td>purchased device worked advertised never much ...</td>\n",
       "      <td>0</td>\n",
       "    </tr>\n",
       "    <tr>\n",
       "      <th>2</th>\n",
       "      <td>works expected sprung higher capacity think ma...</td>\n",
       "      <td>1</td>\n",
       "    </tr>\n",
       "    <tr>\n",
       "      <th>3</th>\n",
       "      <td>think worked greathad diff bran gb card went s...</td>\n",
       "      <td>1</td>\n",
       "    </tr>\n",
       "    <tr>\n",
       "      <th>4</th>\n",
       "      <td>bought retail packaging arrived legit orange e...</td>\n",
       "      <td>1</td>\n",
       "    </tr>\n",
       "    <tr>\n",
       "      <th>5</th>\n",
       "      <td>mini storage doesnt anything else supposed pur...</td>\n",
       "      <td>0</td>\n",
       "    </tr>\n",
       "  </tbody>\n",
       "</table>\n",
       "</div>"
      ],
      "text/plain": [
       "                                        cleaned_text  sentiment_label\n",
       "1  purchased device worked advertised never much ...                0\n",
       "2  works expected sprung higher capacity think ma...                1\n",
       "3  think worked greathad diff bran gb card went s...                1\n",
       "4  bought retail packaging arrived legit orange e...                1\n",
       "5  mini storage doesnt anything else supposed pur...                0"
      ]
     },
     "execution_count": 54,
     "metadata": {},
     "output_type": "execute_result"
    }
   ],
   "source": [
    "df5.head()"
   ]
  },
  {
   "cell_type": "code",
   "execution_count": 55,
   "id": "a7e92e48-ff3d-46e2-a5b9-9613715ae1b5",
   "metadata": {},
   "outputs": [],
   "source": [
    "df6=df5.copy()"
   ]
  },
  {
   "cell_type": "code",
   "execution_count": 56,
   "id": "8a88ec5f-6b26-43d8-9d06-b7bbc0f70f82",
   "metadata": {},
   "outputs": [
    {
     "data": {
      "text/html": [
       "<div>\n",
       "<style scoped>\n",
       "    .dataframe tbody tr th:only-of-type {\n",
       "        vertical-align: middle;\n",
       "    }\n",
       "\n",
       "    .dataframe tbody tr th {\n",
       "        vertical-align: top;\n",
       "    }\n",
       "\n",
       "    .dataframe thead th {\n",
       "        text-align: right;\n",
       "    }\n",
       "</style>\n",
       "<table border=\"1\" class=\"dataframe\">\n",
       "  <thead>\n",
       "    <tr style=\"text-align: right;\">\n",
       "      <th></th>\n",
       "      <th>cleaned_text</th>\n",
       "      <th>sentiment_label</th>\n",
       "    </tr>\n",
       "  </thead>\n",
       "  <tbody>\n",
       "    <tr>\n",
       "      <th>1</th>\n",
       "      <td>purchased device worked advertised never much ...</td>\n",
       "      <td>0</td>\n",
       "    </tr>\n",
       "    <tr>\n",
       "      <th>2</th>\n",
       "      <td>works expected sprung higher capacity think ma...</td>\n",
       "      <td>1</td>\n",
       "    </tr>\n",
       "    <tr>\n",
       "      <th>3</th>\n",
       "      <td>think worked greathad diff bran gb card went s...</td>\n",
       "      <td>1</td>\n",
       "    </tr>\n",
       "    <tr>\n",
       "      <th>4</th>\n",
       "      <td>bought retail packaging arrived legit orange e...</td>\n",
       "      <td>1</td>\n",
       "    </tr>\n",
       "    <tr>\n",
       "      <th>5</th>\n",
       "      <td>mini storage doesnt anything else supposed pur...</td>\n",
       "      <td>0</td>\n",
       "    </tr>\n",
       "  </tbody>\n",
       "</table>\n",
       "</div>"
      ],
      "text/plain": [
       "                                        cleaned_text  sentiment_label\n",
       "1  purchased device worked advertised never much ...                0\n",
       "2  works expected sprung higher capacity think ma...                1\n",
       "3  think worked greathad diff bran gb card went s...                1\n",
       "4  bought retail packaging arrived legit orange e...                1\n",
       "5  mini storage doesnt anything else supposed pur...                0"
      ]
     },
     "execution_count": 56,
     "metadata": {},
     "output_type": "execute_result"
    }
   ],
   "source": [
    "df6.head()"
   ]
  },
  {
   "cell_type": "markdown",
   "id": "e37b93a6-b447-421a-acca-765c2bc33d14",
   "metadata": {},
   "source": [
    "Export the cleaned csv file"
   ]
  },
  {
   "cell_type": "code",
   "execution_count": 58,
   "id": "0b7800a6-8189-4150-8dd8-4b6c59f479ee",
   "metadata": {},
   "outputs": [],
   "source": [
    "df6.to_csv('final_cleaned_dataset.csv')"
   ]
  },
  {
   "cell_type": "code",
   "execution_count": 57,
   "id": "1bcd69ba-7257-4227-a661-0ae53566e16a",
   "metadata": {},
   "outputs": [],
   "source": [
    "df6.to_csv('cleaned_bert_dataset.csv')"
   ]
  }
 ],
 "metadata": {
  "kernelspec": {
   "display_name": "Python 3 (ipykernel)",
   "language": "python",
   "name": "python3"
  },
  "language_info": {
   "codemirror_mode": {
    "name": "ipython",
    "version": 3
   },
   "file_extension": ".py",
   "mimetype": "text/x-python",
   "name": "python",
   "nbconvert_exporter": "python",
   "pygments_lexer": "ipython3",
   "version": "3.12.4"
  }
 },
 "nbformat": 4,
 "nbformat_minor": 5
}
